{
 "cells": [
  {
   "cell_type": "markdown",
   "metadata": {},
   "source": [
    "# Module: Classes and Objects Assignments\n",
    "## Lesson: Creating and Working with Classes and Objects\n",
    "### Assignment 1: Basic Class and Object Creation\n",
    "\n",
    "Create a class named `Car` with attributes `make`, `model`, and `year`. Create an object of the class and print its attributes.\n",
    "\n",
    "### Assignment 2: Methods in Class\n",
    "\n",
    "Add a method named `start_engine` to the `Car` class that prints a message when the engine starts. Create an object of the class and call the method.\n",
    "\n",
    "### Assignment 3: Class with Constructor\n",
    "\n",
    "Create a class named `Student` with attributes `name` and `age`. Use a constructor to initialize these attributes. Create an object of the class and print its attributes.\n",
    "\n",
    "### Assignment 4: Class with Private Attributes\n",
    "\n",
    "Create a class named `BankAccount` with private attributes `account_number` and `balance`. Add methods to deposit and withdraw money, and to check the balance. Create an object of the class and perform some operations.\n",
    "\n",
    "### Assignment 5: Class Inheritance\n",
    "\n",
    "Create a base class named `Person` with attributes `name` and `age`. Create a derived class named `Employee` that inherits from `Person` and adds an attribute `employee_id`. Create an object of the derived class and print its attributes.\n",
    "\n",
    "### Assignment 6: Method Overriding\n",
    "\n",
    "In the `Employee` class, override the `__str__` method to return a string representation of the object. Create an object of the class and print it.\n",
    "\n",
    "### Assignment 7: Class Composition\n",
    "\n",
    "Create a class named `Address` with attributes `street`, `city`, and `zipcode`. Create a class named `Person` that has an `Address` object as an attribute. Create an object of the `Person` class and print its address.\n",
    "\n",
    "### Assignment 8: Class with Class Variables\n",
    "\n",
    "Create a class named `Counter` with a class variable `count`. Each time an object is created, increment the count. Add a method to get the current count. Create multiple objects and print the count.\n",
    "\n",
    "### Assignment 9: Static Methods\n",
    "\n",
    "Create a class named `MathOperations` with a static method to calculate the square root of a number. Call the static method without creating an object.\n",
    "\n",
    "### Assignment 10: Class with Properties\n",
    "\n",
    "Create a class named `Rectangle` with private attributes `length` and `width`. Use properties to get and set these attributes. Create an object of the class and test the properties.\n",
    "\n",
    "### Assignment 11: Abstract Base Class\n",
    "\n",
    "Create an abstract base class named `Shape` with an abstract method `area`. Create derived classes `Circle` and `Square` that implement the `area` method. Create objects of the derived classes and call the `area` method.\n",
    "\n",
    "### Assignment 12: Operator Overloading\n",
    "\n",
    "Create a class named `Vector` with attributes `x` and `y`. Overload the `+` operator to add two `Vector` objects. Create objects of the class and test the operator overloading.\n",
    "\n",
    "### Assignment 13: Class with Custom Exception\n",
    "\n",
    "Create a custom exception named `InsufficientBalanceError`. In the `BankAccount` class, raise this exception when a withdrawal amount is greater than the balance. Handle the exception and print an appropriate message.\n",
    "\n",
    "### Assignment 14: Class with Context Manager\n",
    "\n",
    "Create a class named `FileManager` that implements the context manager protocol to open and close a file. Use this class to read the contents of a file.\n",
    "\n",
    "### Assignment 15: Chaining Methods\n",
    "\n",
    "Create a class named `Calculator` with methods to add, subtract, multiply, and divide. Each method should return the object itself to allow method chaining. Create an object and chain multiple method calls."
   ]
  },
  {
   "cell_type": "code",
   "execution_count": 1,
   "metadata": {},
   "outputs": [
    {
     "name": "stdout",
     "output_type": "stream",
     "text": [
      "Toyota Corolla 1966\n"
     ]
    }
   ],
   "source": [
    "#Create a class named `Car` with attributes `make`, `model`, and `year`. Create an object of the class and print its attributes.\n",
    "#sol 1\n",
    "class Car:\n",
    "    def __init__(self,make,model,year):\n",
    "        self.make = make\n",
    "        self.model = model\n",
    "        self.year = year\n",
    "\n",
    "car = Car('Toyota','Corolla',1966)\n",
    "print(car.make, car.model , car.year)"
   ]
  },
  {
   "cell_type": "code",
   "execution_count": 2,
   "id": "7eea403b",
   "metadata": {},
   "outputs": [
    {
     "name": "stdout",
     "output_type": "stream",
     "text": [
      "Toyota Corolla Engine start\n"
     ]
    }
   ],
   "source": [
    "#sol 2\n",
    "class Car:\n",
    "    def __init__(self,make,model,year):\n",
    "        self.make = make\n",
    "        self.model = model\n",
    "        self.year = year\n",
    "    def start_engine(self):\n",
    "        print(f\"{self.make} {self.model} Engine start\")\n",
    "\n",
    "car = Car('Toyota','Corolla',1966)\n",
    "car.start_engine()"
   ]
  },
  {
   "cell_type": "code",
   "execution_count": 4,
   "id": "3a9c785f",
   "metadata": {},
   "outputs": [
    {
     "name": "stdout",
     "output_type": "stream",
     "text": [
      "Anos 3000\n"
     ]
    }
   ],
   "source": [
    "#sol 3\n",
    "class Student:\n",
    "    def __init__(self,name, age):\n",
    "        self.name = name \n",
    "        self.age = age\n",
    "\n",
    "s1  = Student('Anos','3000')\n",
    "\n",
    "print(s1.name, s1.age)"
   ]
  },
  {
   "cell_type": "code",
   "execution_count": 7,
   "id": "15896727",
   "metadata": {},
   "outputs": [
    {
     "name": "stdout",
     "output_type": "stream",
     "text": [
      "your Available balance is 3000\n",
      "Insufficient fund withdrawal can not proceed\n",
      "your Available balance is 3000\n",
      "withdraw of 1000 sucess!\n",
      "your Available balance is 2000\n",
      "amount 1000 deposited to your account\n",
      "your Available balance is 3000\n"
     ]
    }
   ],
   "source": [
    "#sol 4\n",
    "#BankAccount` with private attributes `account_number` and `balance`.\n",
    "class BankAccount:\n",
    "    def __init__(self , account_number , balance = 0):\n",
    "        self.account_number = account_number\n",
    "        self.balance = balance \n",
    "    def deposit(self , money):\n",
    "        self.money = money\n",
    "        self.balance += self.money\n",
    "        print(f\"amount {self.money} deposited to your account\")\n",
    "    \n",
    "    def withdraw(self , amount):\n",
    "        self.amount = amount\n",
    "        if self.balance<self.amount:\n",
    "            print(f\"Insufficient fund withdrawal can not proceed\")\n",
    "        else:\n",
    "            self.balance -= self.amount \n",
    "            print(f\"withdraw of {self.amount} sucess!\")\n",
    "    def check_balance(self):\n",
    "        print(f\"your Available balance is {self.balance}\")\n",
    "\n",
    "account = BankAccount(123456789,3000)\n",
    "account.check_balance()\n",
    "account.withdraw(4000)\n",
    "account.check_balance()\n",
    "account.withdraw(1000)\n",
    "account.check_balance()\n",
    "account.deposit(1000)\n",
    "account.check_balance()"
   ]
  },
  {
   "cell_type": "code",
   "execution_count": 1,
   "id": "1eb00abe",
   "metadata": {},
   "outputs": [
    {
     "name": "stdout",
     "output_type": "stream",
     "text": [
      "303 Aftab 31\n"
     ]
    }
   ],
   "source": [
    "#sol 5\n",
    "class person:\n",
    "    def __init__(self , name , age):\n",
    "        self.name = name\n",
    "        self.age = age\n",
    "\n",
    "class Employee(person):\n",
    "    def __init__(self, name,age,employee_id):\n",
    "        super().__init__(name,age)\n",
    "        self.employee_id = employee_id\n",
    "\n",
    "employ = Employee('Aftab',31,303)\n",
    "print(employ.employee_id, employ.name , employ.age)    \n"
   ]
  },
  {
   "cell_type": "code",
   "execution_count": 3,
   "id": "9f44b987",
   "metadata": {},
   "outputs": [
    {
     "name": "stdout",
     "output_type": "stream",
     "text": [
      "Employee(Name:Aftab Age:31 Emplyee ID:12345678)\n"
     ]
    }
   ],
   "source": [
    "#sol 6\n",
    "class Employee(person):\n",
    "    def __init__(self, name, age , employee_id):\n",
    "        super().__init__(name,age)\n",
    "        self.employee_id= employee_id\n",
    "    def __str__(self):\n",
    "        return f\"Employee(Name:{self.name} Age:{self.age} Emplyee ID:{self.employee_id})\"\n",
    "\n",
    "employ = Employee('Aftab',31,12345678)\n",
    "print(employ)\n"
   ]
  },
  {
   "cell_type": "code",
   "execution_count": 6,
   "id": "dbc7fccb",
   "metadata": {},
   "outputs": [
    {
     "name": "stdout",
     "output_type": "stream",
     "text": [
      "Aftab 31 90210\n"
     ]
    }
   ],
   "source": [
    "#sol 7\n",
    "class Address:\n",
    "    def __init__(self , street , city , zipcode):\n",
    "        self.street = street\n",
    "        self.city = city \n",
    "        self.zipcode = zipcode\n",
    "\n",
    "class Person:\n",
    "    def __init__(self, name, age, address):\n",
    "        self.name = name\n",
    "        self.age = age\n",
    "        self.address = address\n",
    "\n",
    "address = Address('123 Elmwood Drivee','Springfield',90210)\n",
    "person1 = Person('Aftab',31,address)\n",
    "print(person1.name,person1.age,person1.address.zipcode)"
   ]
  },
  {
   "cell_type": "code",
   "execution_count": 9,
   "id": "faf94583",
   "metadata": {},
   "outputs": [
    {
     "name": "stdout",
     "output_type": "stream",
     "text": [
      "4\n"
     ]
    }
   ],
   "source": [
    "#sol 8\n",
    "class Counter:\n",
    "    count = 0\n",
    "    def __init__(self):\n",
    "        Counter.count += 1\n",
    "    @classmethod\n",
    "    def get_count(cls):\n",
    "        return cls.count\n",
    "    \n",
    "c1 = Counter()\n",
    "c2 = Counter()\n",
    "c3 = Counter()\n",
    "c4 = Counter()\n",
    "print(Counter.get_count())"
   ]
  },
  {
   "cell_type": "code",
   "execution_count": 15,
   "id": "27cc0991",
   "metadata": {},
   "outputs": [
    {
     "data": {
      "text/plain": [
       "4.0"
      ]
     },
     "execution_count": 15,
     "metadata": {},
     "output_type": "execute_result"
    }
   ],
   "source": [
    "#sol 9\n",
    "import math\n",
    "class Mathoperations:\n",
    "    @staticmethod\n",
    "    def sqrt(x):\n",
    "        return math.sqrt(x)\n",
    "\n",
    "Mathoperations.sqrt(16)"
   ]
  },
  {
   "cell_type": "code",
   "execution_count": 21,
   "id": "27c36761",
   "metadata": {},
   "outputs": [
    {
     "name": "stdout",
     "output_type": "stream",
     "text": [
      "Length: 10 Width: 2\n",
      "Length: 3 Width: 2\n",
      "Length: 3 Width: 1\n"
     ]
    }
   ],
   "source": [
    "#sol 10\n",
    "class Rectangle:\n",
    "    def __init__(self , length , width):\n",
    "        self.__length = length\n",
    "        self.__width = width\n",
    "    @property\n",
    "    def length(self):\n",
    "        return self.__length\n",
    "    @length.setter\n",
    "    def length(self,length):\n",
    "        self.__length = length\n",
    "    @property\n",
    "    def width(self):\n",
    "        return self.__width\n",
    "    @width.setter\n",
    "    def width(self , width):\n",
    "        self.__width = width\n",
    "\n",
    "rect1 = Rectangle(10,2)\n",
    "\n",
    "print(f\"Length: {rect1.length} Width: {rect1.width}\")\n",
    "rect1.length = 3\n",
    "print(f\"Length: {rect1.length} Width: {rect1.width}\")\n",
    "rect1.width = 1\n",
    "print(f\"Length: {rect1.length} Width: {rect1.width}\")"
   ]
  },
  {
   "cell_type": "code",
   "execution_count": 5,
   "id": "ebb02103",
   "metadata": {},
   "outputs": [
    {
     "name": "stdout",
     "output_type": "stream",
     "text": [
      "50.26548245743669\n",
      "16\n"
     ]
    }
   ],
   "source": [
    "#sol 11)\n",
    "import math\n",
    "from abc import ABC, abstractmethod\n",
    "class Shape(ABC):\n",
    "    @abstractmethod\n",
    "    def area(self):\n",
    "        pass\n",
    "    \n",
    "class circle(Shape):\n",
    "    def __init__(self,radius):\n",
    "        self.radius = radius\n",
    "    def area(self):\n",
    "        return math.pi * self.radius ** 2\n",
    "\n",
    "class square(Shape):\n",
    "    def __init__(self, side):\n",
    "        self.side = side\n",
    "    def area(self):\n",
    "        return self.side ** 2\n",
    " \n",
    "\n",
    "#Test\n",
    "s1 = square(4)\n",
    "c1 = circle(4)  \n",
    "print(c1.area())\n",
    "print(s1.area())\n"
   ]
  },
  {
   "cell_type": "code",
   "execution_count": null,
   "id": "170196cc",
   "metadata": {},
   "outputs": [
    {
     "name": "stdout",
     "output_type": "stream",
     "text": [
      "Vector(7 , 10)\n"
     ]
    }
   ],
   "source": [
    "#sol 12\n",
    "class Vector:\n",
    "    def __init__(self,x,y):\n",
    "        self.x = x\n",
    "        self.y = y\n",
    "    def __add__(self,other):\n",
    "        return Vector(self.x + other.x , self.y + other.y)\n",
    "    def __str__(self):\n",
    "        return f\"Vector({self.x} , {self.y})\"\n",
    "    \n",
    "v1 = Vector(2,4)\n",
    "v2 = Vector(5,6)\n",
    "v3 = v1 + v2\n",
    "print(v3)"
   ]
  },
  {
   "cell_type": "code",
   "execution_count": 3,
   "id": "72045386",
   "metadata": {},
   "outputs": [
    {
     "name": "stdout",
     "output_type": "stream",
     "text": [
      "5000\n"
     ]
    },
    {
     "ename": "InsufficientBalanceError",
     "evalue": "",
     "output_type": "error",
     "traceback": [
      "\u001b[31m---------------------------------------------------------------------------\u001b[39m",
      "\u001b[31mInsufficientBalanceError\u001b[39m                  Traceback (most recent call last)",
      "\u001b[36mCell\u001b[39m\u001b[36m \u001b[39m\u001b[32mIn[3]\u001b[39m\u001b[32m, line 26\u001b[39m\n\u001b[32m     24\u001b[39m acc1.deposite(\u001b[32m5000\u001b[39m)\n\u001b[32m     25\u001b[39m \u001b[38;5;28mprint\u001b[39m(acc1.check_bal())\n\u001b[32m---> \u001b[39m\u001b[32m26\u001b[39m \u001b[43macc1\u001b[49m\u001b[43m.\u001b[49m\u001b[43mwithdraw\u001b[49m\u001b[43m(\u001b[49m\u001b[32;43m6000\u001b[39;49m\u001b[43m)\u001b[49m\n\u001b[32m     27\u001b[39m \u001b[38;5;28mprint\u001b[39m(acc1.check_bal())\n",
      "\u001b[36mCell\u001b[39m\u001b[36m \u001b[39m\u001b[32mIn[3]\u001b[39m\u001b[32m, line 14\u001b[39m, in \u001b[36mBankAccount.withdraw\u001b[39m\u001b[34m(self, amount)\u001b[39m\n\u001b[32m     12\u001b[39m \u001b[38;5;28mself\u001b[39m.__amount = amount\n\u001b[32m     13\u001b[39m \u001b[38;5;28;01mif\u001b[39;00m(\u001b[38;5;28mself\u001b[39m.__amount> \u001b[38;5;28mself\u001b[39m.__balance):\n\u001b[32m---> \u001b[39m\u001b[32m14\u001b[39m     \u001b[38;5;28;01mraise\u001b[39;00m InsufficientBalanceError\n\u001b[32m     15\u001b[39m \u001b[38;5;28;01melse\u001b[39;00m:\n\u001b[32m     16\u001b[39m     \u001b[38;5;28mself\u001b[39m.__balance = \u001b[38;5;28mself\u001b[39m.__balance - \u001b[38;5;28mself\u001b[39m.__amount\n",
      "\u001b[31mInsufficientBalanceError\u001b[39m: "
     ]
    }
   ],
   "source": [
    "#sol 13\n",
    "class InsufficientBalanceError(Exception):\n",
    "    pass\n",
    "class BankAccount:\n",
    "    def __init__(self,account , balance = 0 ):\n",
    "        self.__account = account\n",
    "        self.__balance = balance\n",
    "    def deposite(self , amount):\n",
    "        self.__amount = amount\n",
    "        self.__balance = self.__balance + self.__amount\n",
    "    def withdraw(self,amount):\n",
    "        self.__amount = amount\n",
    "        if(self.__amount> self.__balance):\n",
    "            raise InsufficientBalanceError\n",
    "        else:\n",
    "            self.__balance = self.__balance - self.__amount\n",
    "    def check_bal(self):\n",
    "        return self.__balance\n",
    "\n",
    "\n",
    "\n",
    "#Test\n",
    "acc1 = BankAccount(122)\n",
    "acc1.deposite(5000)\n",
    "print(acc1.check_bal())\n",
    "acc1.withdraw(6000)\n",
    "print(acc1.check_bal())\n",
    "        "
   ]
  },
  {
   "cell_type": "code",
   "execution_count": 1,
   "id": "837d4988",
   "metadata": {},
   "outputs": [
    {
     "ename": "FileNotFoundError",
     "evalue": "[Errno 2] No such file or directory: 'simple.txt'",
     "output_type": "error",
     "traceback": [
      "\u001b[31m---------------------------------------------------------------------------\u001b[39m",
      "\u001b[31mFileNotFoundError\u001b[39m                         Traceback (most recent call last)",
      "\u001b[36mCell\u001b[39m\u001b[36m \u001b[39m\u001b[32mIn[1]\u001b[39m\u001b[32m, line 15\u001b[39m\n\u001b[32m     13\u001b[39m        \u001b[38;5;28mself\u001b[39m.file.close()\n\u001b[32m     14\u001b[39m \u001b[38;5;66;03m#Test\u001b[39;00m\n\u001b[32m---> \u001b[39m\u001b[32m15\u001b[39m \u001b[38;5;28;43;01mwith\u001b[39;49;00m\u001b[43m \u001b[49m\u001b[43mFileManager\u001b[49m\u001b[43m(\u001b[49m\u001b[33;43m'\u001b[39;49m\u001b[33;43msimple.txt\u001b[39;49m\u001b[33;43m'\u001b[39;49m\u001b[43m,\u001b[49m\u001b[33;43m'\u001b[39;49m\u001b[33;43mr\u001b[39;49m\u001b[33;43m'\u001b[39;49m\u001b[43m)\u001b[49m\u001b[43m \u001b[49m\u001b[38;5;28;43;01mas\u001b[39;49;00m\u001b[43m \u001b[49m\u001b[43mfile\u001b[49m\u001b[43m:\u001b[49m\n\u001b[32m     16\u001b[39m \u001b[43m   \u001b[49m\u001b[43mcontent\u001b[49m\u001b[43m \u001b[49m\u001b[43m=\u001b[49m\u001b[43m \u001b[49m\u001b[43mfile\u001b[49m\u001b[43m.\u001b[49m\u001b[43mread\u001b[49m\u001b[43m(\u001b[49m\u001b[43m)\u001b[49m\n\u001b[32m     17\u001b[39m \u001b[43m   \u001b[49m\u001b[38;5;28;43mprint\u001b[39;49m\u001b[43m(\u001b[49m\u001b[43mcontent\u001b[49m\u001b[43m)\u001b[49m\n",
      "\u001b[36mCell\u001b[39m\u001b[36m \u001b[39m\u001b[32mIn[1]\u001b[39m\u001b[32m, line 9\u001b[39m, in \u001b[36mFileManager.__enter__\u001b[39m\u001b[34m(self)\u001b[39m\n\u001b[32m      8\u001b[39m \u001b[38;5;28;01mdef\u001b[39;00m\u001b[38;5;250m \u001b[39m\u001b[34m__enter__\u001b[39m(\u001b[38;5;28mself\u001b[39m):\n\u001b[32m----> \u001b[39m\u001b[32m9\u001b[39m    \u001b[38;5;28mself\u001b[39m.file = \u001b[38;5;28;43mopen\u001b[39;49m\u001b[43m(\u001b[49m\u001b[38;5;28;43mself\u001b[39;49m\u001b[43m.\u001b[49m\u001b[43m__filename\u001b[49m\u001b[43m,\u001b[49m\u001b[38;5;28;43mself\u001b[39;49m\u001b[43m.\u001b[49m\u001b[43m__mode\u001b[49m\u001b[43m)\u001b[49m\n\u001b[32m     10\u001b[39m    \u001b[38;5;28;01mreturn\u001b[39;00m \u001b[38;5;28mself\u001b[39m.file\n",
      "\u001b[36mFile \u001b[39m\u001b[32m~\\AppData\\Local\\Packages\\PythonSoftwareFoundation.Python.3.11_qbz5n2kfra8p0\\LocalCache\\local-packages\\Python311\\site-packages\\IPython\\core\\interactiveshell.py:325\u001b[39m, in \u001b[36m_modified_open\u001b[39m\u001b[34m(file, *args, **kwargs)\u001b[39m\n\u001b[32m    318\u001b[39m \u001b[38;5;28;01mif\u001b[39;00m file \u001b[38;5;129;01min\u001b[39;00m {\u001b[32m0\u001b[39m, \u001b[32m1\u001b[39m, \u001b[32m2\u001b[39m}:\n\u001b[32m    319\u001b[39m     \u001b[38;5;28;01mraise\u001b[39;00m \u001b[38;5;167;01mValueError\u001b[39;00m(\n\u001b[32m    320\u001b[39m         \u001b[33mf\u001b[39m\u001b[33m\"\u001b[39m\u001b[33mIPython won\u001b[39m\u001b[33m'\u001b[39m\u001b[33mt let you open fd=\u001b[39m\u001b[38;5;132;01m{\u001b[39;00mfile\u001b[38;5;132;01m}\u001b[39;00m\u001b[33m by default \u001b[39m\u001b[33m\"\u001b[39m\n\u001b[32m    321\u001b[39m         \u001b[33m\"\u001b[39m\u001b[33mas it is likely to crash IPython. If you know what you are doing, \u001b[39m\u001b[33m\"\u001b[39m\n\u001b[32m    322\u001b[39m         \u001b[33m\"\u001b[39m\u001b[33myou can use builtins\u001b[39m\u001b[33m'\u001b[39m\u001b[33m open.\u001b[39m\u001b[33m\"\u001b[39m\n\u001b[32m    323\u001b[39m     )\n\u001b[32m--> \u001b[39m\u001b[32m325\u001b[39m \u001b[38;5;28;01mreturn\u001b[39;00m \u001b[43mio_open\u001b[49m\u001b[43m(\u001b[49m\u001b[43mfile\u001b[49m\u001b[43m,\u001b[49m\u001b[43m \u001b[49m\u001b[43m*\u001b[49m\u001b[43margs\u001b[49m\u001b[43m,\u001b[49m\u001b[43m \u001b[49m\u001b[43m*\u001b[49m\u001b[43m*\u001b[49m\u001b[43mkwargs\u001b[49m\u001b[43m)\u001b[49m\n",
      "\u001b[31mFileNotFoundError\u001b[39m: [Errno 2] No such file or directory: 'simple.txt'"
     ]
    }
   ],
   "source": [
    "#sol 14\n",
    "class FileManager:\n",
    "          \n",
    "    def  __init__(self , filename , mode):\n",
    "      self.__filename = filename\n",
    "      self.__mode = mode\n",
    "    \n",
    "    def __enter__(self):\n",
    "       self.file = open(self.__filename,self.__mode)\n",
    "       return self.file\n",
    "    \n",
    "    def __exit__(self, exc_type, exc_value, traceback):\n",
    "       self.file.close()\n",
    "#Test\n",
    "with FileManager('simple.txt','r') as file:\n",
    "   content = file.read()\n",
    "   print(content)\n",
    "   "
   ]
  },
  {
   "cell_type": "code",
   "execution_count": 4,
   "id": "32ba9a6c",
   "metadata": {},
   "outputs": [
    {
     "name": "stdout",
     "output_type": "stream",
     "text": [
      "6\n",
      "8\n",
      "2\n",
      "2.0\n"
     ]
    }
   ],
   "source": [
    "#sol 15\n",
    "class calculater:\n",
    "    def __init__(self, num1 , num2):\n",
    "        self.num1 = num1\n",
    "        self.num2 = num2\n",
    "    def add(self):\n",
    "        return self.num1 + self.num2\n",
    "    def mul(self):\n",
    "        return self.num1*self.num2\n",
    "    def sub(self):\n",
    "        return self.num1 - self.num2\n",
    "    def div(self):\n",
    "        return self.num1/self.num2\n",
    "\n",
    "cal = calculater(4,2)\n",
    "print(cal.add())\n",
    "print(cal.mul())\n",
    "print(cal.sub())\n",
    "print(cal.div())\n"
   ]
  }
 ],
 "metadata": {
  "kernelspec": {
   "display_name": "Python 3",
   "language": "python",
   "name": "python3"
  },
  "language_info": {
   "codemirror_mode": {
    "name": "ipython",
    "version": 3
   },
   "file_extension": ".py",
   "mimetype": "text/x-python",
   "name": "python",
   "nbconvert_exporter": "python",
   "pygments_lexer": "ipython3",
   "version": "3.11.9"
  }
 },
 "nbformat": 4,
 "nbformat_minor": 5
}
