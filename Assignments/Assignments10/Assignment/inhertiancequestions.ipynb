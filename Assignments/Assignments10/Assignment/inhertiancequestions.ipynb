{
 "cells": [
  {
   "cell_type": "markdown",
   "metadata": {},
   "source": [
    "# Module: Inheritance Assignments\n",
    "## Lesson: Single and Multiple Inheritance\n",
    "### Assignment 1: Single Inheritance Basic\n",
    "\n",
    "Create a base class named `Animal` with attributes `name` and `species`. Create a derived class named `Dog` that inherits from `Animal` and adds an attribute `breed`. Create an object of the `Dog` class and print its attributes.\n",
    "\n",
    "### Assignment 2: Method Overriding in Single Inheritance\n",
    "\n",
    "In the `Dog` class, override the `__str__` method to return a string representation of the object. Create an object of the class and print it.\n",
    "\n",
    "### Assignment 3: Single Inheritance with Additional Methods\n",
    "\n",
    "In the `Dog` class, add a method named `bark` that prints a barking sound. Create an object of the class and call the method.\n",
    "\n",
    "### Assignment 4: Multiple Inheritance Basic\n",
    "\n",
    "Create a base class named `Walker` with a method `walk` that prints a walking message. Create another base class named `Runner` with a method `run` that prints a running message. Create a derived class named `Athlete` that inherits from both `Walker` and `Runner`. Create an object of the `Athlete` class and call both methods.\n",
    "\n",
    "### Assignment 5: Method Resolution Order (MRO) in Multiple Inheritance\n",
    "\n",
    "In the `Athlete` class, override the `walk` method to print a different message. Create an object of the class and call the `walk` method. Use the `super()` function to call the `walk` method of the `Walker` class.\n",
    "\n",
    "### Assignment 6: Multiple Inheritance with Additional Attributes\n",
    "\n",
    "In the `Athlete` class, add an attribute `training_hours` and a method `train` that prints the training hours. Create an object of the class and call the method.\n",
    "\n",
    "### Assignment 7: Diamond Problem in Multiple Inheritance\n",
    "\n",
    "Create a class named `A` with a method `show` that prints a message. Create two derived classes `B` and `C` that inherit from `A` and override the `show` method. Create a class `D` that inherits from both `B` and `C`. Create an object of the `D` class and call the `show` method. Observe the method resolution order.\n",
    "\n",
    "### Assignment 8: Using `super()` in Single Inheritance\n",
    "\n",
    "Create a base class named `Shape` with an attribute `color`. Create a derived class named `Circle` that inherits from `Shape` and adds an attribute `radius`. Use the `super()` function to initialize the attributes. Create an object of the `Circle` class and print its attributes.\n",
    "\n",
    "### Assignment 9: Using `super()` in Multiple Inheritance\n",
    "\n",
    "Create a class named `Person` with an attribute `name`. Create a class named `Employee` with an attribute `employee_id`. Create a derived class `Manager` that inherits from both `Person` and `Employee`. Use the `super()` function to initialize the attributes. Create an object of the `Manager` class and print its attributes.\n",
    "\n",
    "### Assignment 10: Method Overriding and `super()`\n",
    "\n",
    "Create a class named `Vehicle` with a method `start` that prints a starting message. Create a derived class `Car` that overrides the `start` method to print a different message. Use the `super()` function to call the `start` method of the `Vehicle` class. Create an object of the `Car` class and call the `start` method.\n",
    "\n",
    "### Assignment 11: Multiple Inheritance with Different Methods\n",
    "\n",
    "Create a class named `Flyer` with a method `fly` that prints a flying message. Create a class named `Swimmer` with a method `swim` that prints a swimming message. Create a derived class `Superhero` that inherits from both `Flyer` and `Swimmer`. Create an object of the `Superhero` class and call both methods.\n",
    "\n",
    "### Assignment 12: Complex Multiple Inheritance\n",
    "\n",
    "Create a class named `Base1` with an attribute `a`. Create a class named `Base2` with an attribute `b`. Create a class named `Derived` that inherits from both `Base1` and `Base2` and adds an attribute `c`. Initialize all attributes using the `super()` function. Create an object of the `Derived` class and print its attributes.\n",
    "\n",
    "### Assignment 13: Checking Instance Types with Inheritance\n",
    "\n",
    "Create a base class named `Animal` and a derived class named `Cat`. Create objects of both classes and use the `isinstance` function to check the instance types.\n",
    "\n",
    "### Assignment 14: Polymorphism with Inheritance\n",
    "\n",
    "Create a base class named `Bird` with a method `speak`. Create two derived classes `Parrot` and `Penguin` that override the `speak` method. Create a list of `Bird` objects and call the `speak` method on each object to demonstrate polymorphism.\n",
    "\n",
    "### Assignment 15: Combining Single and Multiple Inheritance\n",
    "\n",
    "Create a base class named `Device` with an attribute `brand`. Create a derived class `Phone` that inherits from `Device` and adds an attribute `model`. Create another base class `Camera` with an attribute `resolution`. Create a derived class `Smartphone` that inherits from both `Phone` and `Camera`. Create an object of the `Smartphone` class and print its attributes."
   ]
  },
  {
   "cell_type": "code",
   "execution_count": 8,
   "metadata": {},
   "outputs": [
    {
     "name": "stdout",
     "output_type": "stream",
     "text": [
      "Rocky Canis lupus familiaris German Shepherd\n"
     ]
    }
   ],
   "source": [
    "#sol 1\n",
    "class Animal:\n",
    "    def __init__(self , name , species):\n",
    "        self.name = name\n",
    "        self.species = species\n",
    "    \n",
    "class Dog(Animal):\n",
    "    def __init__(self , name , species , breed):\n",
    "        super().__init__( name, species )\n",
    "        self.breed = breed\n",
    "\n",
    "dog1 = Dog('Rocky','Canis lupus familiaris','German Shepherd')\n",
    "print(dog1.name, dog1.species, dog1.breed)"
   ]
  },
  {
   "cell_type": "code",
   "execution_count": 10,
   "id": "9ad8a00f",
   "metadata": {},
   "outputs": [
    {
     "name": "stdout",
     "output_type": "stream",
     "text": [
      "Dog(Name: EGGA Species: Canis lupus familiaris Breed: German Shephered)\n"
     ]
    }
   ],
   "source": [
    "#Sol 2 \n",
    "class Dog(Animal):\n",
    "    def __init__(self , name , species , breed):\n",
    "        self.breed = breed\n",
    "        super().__init__(name,species)\n",
    "    def __str__(self):\n",
    "        return f\"Dog(Name: {self.name} Species: {self.species} Breed: {self.breed})\"\n",
    "d1 = Dog('EGGA','Canis lupus familiaris','German Shephered') \n",
    "print(d1.__str__())\n"
   ]
  },
  {
   "cell_type": "code",
   "execution_count": 11,
   "id": "28efa81d",
   "metadata": {},
   "outputs": [
    {
     "name": "stdout",
     "output_type": "stream",
     "text": [
      "WOOF\n"
     ]
    }
   ],
   "source": [
    "#sol 3\n",
    "class Dog(Animal):\n",
    "    def __init__(self, name, species, breed):\n",
    "        self.breed = breed\n",
    "        super().__init__(name, species)\n",
    "    \n",
    "    def bark(self):\n",
    "        print(\"WOOF\")\n",
    "\n",
    "d1 = Dog('EGGA','Canis lupus familiaris','German Shephered')\n",
    "d1.bark()"
   ]
  },
  {
   "cell_type": "code",
   "execution_count": null,
   "id": "c90338bc",
   "metadata": {},
   "outputs": [
    {
     "name": "stdout",
     "output_type": "stream",
     "text": [
      "walking...\n",
      "Running...\n"
     ]
    }
   ],
   "source": [
    "#sol 4\n",
    "class walker:\n",
    " \n",
    "    def walk(self):\n",
    "        print(\"walking...\")\n",
    "        \n",
    "    \n",
    "class Runer:\n",
    "    def Run(self):\n",
    "        print(\"Running...\")\n",
    "        \n",
    "    \n",
    "class Athlete(walker,Runer):\n",
    "    pass\n",
    " \n",
    "#Test\n",
    "person = Athlete()\n",
    "person.walk()\n",
    "person.Run()\n",
    "\n",
    "\n",
    "        "
   ]
  },
  {
   "cell_type": "code",
   "execution_count": 3,
   "id": "94148c6b",
   "metadata": {},
   "outputs": [
    {
     "name": "stdout",
     "output_type": "stream",
     "text": [
      "Athlete walking...\n",
      "walking...\n"
     ]
    }
   ],
   "source": [
    "#sol 5\n",
    "class walker:\n",
    "    def walk(self):\n",
    "        print(\"walking...\")\n",
    "class Runner:\n",
    "    def Run(self):\n",
    "        print(\"Running...\")\n",
    "\n",
    "class Athlete(walker,Runner):\n",
    "    def walk(self):\n",
    "        print(\"Athlete walking...\")\n",
    "        return super().walk()\n",
    "    \n",
    "athelete = Athlete()\n",
    "athelete.walk()"
   ]
  },
  {
   "cell_type": "code",
   "execution_count": 6,
   "id": "73ab1ca5",
   "metadata": {},
   "outputs": [
    {
     "name": "stdout",
     "output_type": "stream",
     "text": [
      "Training 5 hours\n"
     ]
    }
   ],
   "source": [
    "#sol 6\n",
    "class Athlete(walker,Runer):\n",
    "    def __init__(self , training_hours):\n",
    "        self.training_hours = training_hours\n",
    "    def train(self):\n",
    "        print(f\"Training {self.training_hours} hours\")\n",
    "\n",
    "#test\n",
    "athelete = Athlete(5)\n",
    "\n",
    "athelete.train()"
   ]
  },
  {
   "cell_type": "code",
   "execution_count": null,
   "id": "f42e7b43",
   "metadata": {},
   "outputs": [
    {
     "name": "stdout",
     "output_type": "stream",
     "text": [
      "Show B\n"
     ]
    }
   ],
   "source": [
    "#sol 7\n",
    "class A:\n",
    "    def show(self):\n",
    "        print(\"Show A\")\n",
    "\n",
    "class B(A):\n",
    "    def show(self):\n",
    "        print(\"Show B\")\n",
    "\n",
    "class C(A):\n",
    "    def show(self):\n",
    "        print(\"Show C\")\n",
    "\n",
    "class D(B,C):\n",
    "    pass\n",
    "\n",
    "#Test\n",
    "d = D()\n",
    "d.show()"
   ]
  },
  {
   "cell_type": "code",
   "execution_count": 15,
   "id": "05594d42",
   "metadata": {},
   "outputs": [
    {
     "name": "stdout",
     "output_type": "stream",
     "text": [
      "5 red\n"
     ]
    }
   ],
   "source": [
    "#sol 8\n",
    "class shape:\n",
    "    def __init__(self,color):\n",
    "        self.color = color\n",
    "class circle(shape):\n",
    "    def __init__(self, color , radius):\n",
    "        self.radius = radius\n",
    "        super().__init__(color)\n",
    "#test\n",
    "cl1 = circle('red', 5)\n",
    "print(cl1.radius,cl1.color)"
   ]
  },
  {
   "cell_type": "code",
   "execution_count": 24,
   "id": "73123f85",
   "metadata": {},
   "outputs": [
    {
     "name": "stdout",
     "output_type": "stream",
     "text": [
      "EMPLOYEE ID: 333  \n",
      " NAME: devil\n"
     ]
    }
   ],
   "source": [
    "#sol 9\n",
    "class person:\n",
    "    def __init__(self , name):\n",
    "        self.name = name\n",
    "\n",
    "class Employee:\n",
    "    def __init__(self, employee_id):\n",
    "        self.employee_id = employee_id\n",
    "\n",
    "class Manager(person , Employee):\n",
    "    def __init__(self, name,employee_id):\n",
    "        super().__init__(name)\n",
    "        Employee.__init__(self,employee_id)\n",
    "\n",
    "p1 = Manager(\"devil\", 333)\n",
    "print(f\"EMPLOYEE ID: {p1.employee_id}  \\n NAME: {p1.name}\" )"
   ]
  },
  {
   "cell_type": "code",
   "execution_count": 25,
   "id": "fc165449",
   "metadata": {},
   "outputs": [
    {
     "name": "stdout",
     "output_type": "stream",
     "text": [
      "Car starting...\n",
      "Starting...\n"
     ]
    }
   ],
   "source": [
    "#sol 10\n",
    "### Assignment 10: Method Overriding and `super()`\n",
    "class Vehicle:\n",
    "    def start(self):\n",
    "        print(\"Starting...\")\n",
    "\n",
    "class Car(Vehicle):\n",
    "    def start(self):\n",
    "        print(\"Car starting...\")\n",
    "        super().start()\n",
    "\n",
    "car1 = Car()\n",
    "\n",
    "car1.start()\n",
    "\n"
   ]
  },
  {
   "cell_type": "code",
   "execution_count": 26,
   "id": "ef0f75a2",
   "metadata": {},
   "outputs": [
    {
     "name": "stdout",
     "output_type": "stream",
     "text": [
      "Swimming...\n",
      "flying...\n"
     ]
    }
   ],
   "source": [
    "#sol 11\n",
    "class Flyer:\n",
    "    def fly(self):\n",
    "        print(\"flying...\")\n",
    "\n",
    "class Swimmer:\n",
    "    def swim(self):\n",
    "        print(\"Swimming...\")\n",
    "\n",
    "class superhero(Swimmer,Flyer):\n",
    "    pass\n",
    "\n",
    "h1 = superhero()\n",
    "h1.swim()\n",
    "h1.fly()"
   ]
  },
  {
   "cell_type": "code",
   "execution_count": 28,
   "id": "81ba8133",
   "metadata": {},
   "outputs": [
    {
     "name": "stdout",
     "output_type": "stream",
     "text": [
      "1 2 3\n"
     ]
    }
   ],
   "source": [
    "#sol 12\n",
    "class Base1:\n",
    "    def __init__(self,a):\n",
    "        self.a = a\n",
    "\n",
    "class Base2:\n",
    "    def __init__(self,b):\n",
    "        self.b = b\n",
    "\n",
    "class Derived(Base1,Base2):\n",
    "    def __init__(self, a , b , c):\n",
    "        super().__init__(a)\n",
    "        Base2.__init__(self,b)\n",
    "        self.c = c\n",
    "\n",
    "num = Derived(1,2,3)\n",
    "\n",
    "print(num.a,num.b,num.c)"
   ]
  },
  {
   "cell_type": "code",
   "execution_count": 40,
   "id": "d5c4e4c5",
   "metadata": {},
   "outputs": [
    {
     "name": "stdout",
     "output_type": "stream",
     "text": [
      "False\n",
      "True\n",
      "True\n",
      "True\n"
     ]
    }
   ],
   "source": [
    "#sol 13\n",
    "class Animal:\n",
    "    def __init__(self):\n",
    "        pass\n",
    "class Cat(Animal):\n",
    "    def __init__(self):\n",
    "        super().__init__()\n",
    "        pass\n",
    "\n",
    "#Test\n",
    "animal = Animal()\n",
    "cat = Cat()\n",
    "print(isinstance(animal,Cat))\n",
    "print(isinstance(cat,Animal))\n",
    "print(isinstance(cat, Cat))\n",
    "print(isinstance(animal,Animal))\n"
   ]
  },
  {
   "cell_type": "code",
   "execution_count": 42,
   "id": "7f6a7310",
   "metadata": {},
   "outputs": [
    {
     "name": "stdout",
     "output_type": "stream",
     "text": [
      "Parrot Speaking...\n",
      "Penguin speaking...\n"
     ]
    }
   ],
   "source": [
    "#sol 14\n",
    "class Bird:\n",
    "    def speak(self):\n",
    "        print(\"Speaking...\")\n",
    "\n",
    "class parrot(Bird):\n",
    "    def speak(self):\n",
    "        print(\"Parrot Speaking...\")\n",
    "\n",
    "class Penguin(Bird):\n",
    "    def speak(self):\n",
    "        print(\"Penguin speaking...\")\n",
    "bird = [parrot() , Penguin()]\n",
    "\n",
    "for i in bird:\n",
    "    i.speak()\n",
    "         "
   ]
  },
  {
   "cell_type": "code",
   "execution_count": 8,
   "id": "b12a38d7",
   "metadata": {},
   "outputs": [
    {
     "name": "stdout",
     "output_type": "stream",
     "text": [
      "vivo T1s_5G 20mp\n"
     ]
    }
   ],
   "source": [
    "#sol 15\n",
    "class Device:\n",
    "    def __init__(self, brand):\n",
    "        self.brand = brand\n",
    "\n",
    "class Phone(Device):\n",
    "    def __init__(self, brand ,model):\n",
    "        super().__init__(brand)\n",
    "        self.model = model\n",
    "\n",
    "class Camera:\n",
    "    def __init__(self,resolution):\n",
    "        self.resolution = resolution\n",
    "\n",
    "class Smartphone(Phone,Camera):\n",
    "    def __init__(self, brand , model , resolution):\n",
    "        super().__init__(brand , model)\n",
    "        Camera.__init__(self,resolution)\n",
    "\n",
    "#Test \n",
    "s1 = Smartphone('vivo', 'T1s_5G', '20mp')\n",
    "print(s1.brand,s1.model,s1.resolution)\n"
   ]
  }
 ],
 "metadata": {
  "kernelspec": {
   "display_name": "Python 3",
   "language": "python",
   "name": "python3"
  },
  "language_info": {
   "codemirror_mode": {
    "name": "ipython",
    "version": 3
   },
   "file_extension": ".py",
   "mimetype": "text/x-python",
   "name": "python",
   "nbconvert_exporter": "python",
   "pygments_lexer": "ipython3",
   "version": "3.11.9"
  }
 },
 "nbformat": 4,
 "nbformat_minor": 5
}
