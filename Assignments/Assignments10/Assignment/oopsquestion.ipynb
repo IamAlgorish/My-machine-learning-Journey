{
 "cells": [
  {
   "cell_type": "markdown",
   "metadata": {},
   "source": [
    "# Module: OOP Assignments\n",
    "## Lesson: Polymorphism, Abstraction, and Encapsulation\n",
    "### Assignment 1: Polymorphism with Methods\n",
    "\n",
    "Create a base class named `Shape` with a method `area`. Create two derived classes `Circle` and `Square` that override the `area` method. Create a list of `Shape` objects and call the `area` method on each object to demonstrate polymorphism.\n",
    "\n",
    "### Assignment 2: Polymorphism with Function Arguments\n",
    "\n",
    "Create a function named `describe_shape` that takes a `Shape` object as an argument and calls its `area` method. Create objects of `Circle` and `Square` classes and pass them to the `describe_shape` function.\n",
    "\n",
    "### Assignment 3: Abstract Base Class with Abstract Methods\n",
    "\n",
    "Create an abstract base class named `Vehicle` with an abstract method `start_engine`. Create derived classes `Car` and `Bike` that implement the `start_engine` method. Create objects of the derived classes and call the `start_engine` method.\n",
    "\n",
    "### Assignment 4: Abstract Base Class with Concrete Methods\n",
    "\n",
    "In the `Vehicle` class, add a concrete method `fuel_type` that returns a generic fuel type. Override this method in `Car` and `Bike` classes to return specific fuel types. Create objects of the derived classes and call the `fuel_type` method.\n",
    "\n",
    "### Assignment 5: Encapsulation with Private Attributes\n",
    "\n",
    "Create a class named `BankAccount` with private attributes `account_number` and `balance`. Add methods to deposit and withdraw money, and to check the balance. Ensure that the balance cannot be accessed directly.\n",
    "\n",
    "### Assignment 6: Encapsulation with Property Decorators\n",
    "\n",
    "In the `BankAccount` class, use property decorators to get and set the `balance` attribute. Ensure that the balance cannot be set to a negative value.\n",
    "\n",
    "### Assignment 7: Combining Encapsulation and Inheritance\n",
    "\n",
    "Create a base class named `Person` with private attributes `name` and `age`. Add methods to get and set these attributes. Create a derived class named `Student` that adds an attribute `student_id`. Create an object of the `Student` class and test the encapsulation.\n",
    "\n",
    "### Assignment 8: Polymorphism with Inheritance\n",
    "\n",
    "Create a base class named `Animal` with a method `speak`. Create two derived classes `Dog` and `Cat` that override the `speak` method. Create a list of `Animal` objects and call the `speak` method on each object to demonstrate polymorphism.\n",
    "\n",
    "### Assignment 9: Abstract Methods in Base Class\n",
    "\n",
    "Create an abstract base class named `Employee` with an abstract method `calculate_salary`. Create two derived classes `FullTimeEmployee` and `PartTimeEmployee` that implement the `calculate_salary` method. Create objects of the derived classes and call the `calculate_salary` method.\n",
    "\n",
    "### Assignment 10: Encapsulation in Data Classes\n",
    "\n",
    "Create a data class named `Product` with private attributes `product_id`, `name`, and `price`. Add methods to get and set these attributes. Ensure that the price cannot be set to a negative value.\n",
    "\n",
    "### Assignment 11: Polymorphism with Operator Overloading\n",
    "\n",
    "Create a class named `Vector` with attributes `x` and `y`. Overload the `+` operator to add two `Vector` objects. Create objects of the class and test the operator overloading.\n",
    "\n",
    "### Assignment 12: Abstract Properties\n",
    "\n",
    "Create an abstract base class named `Appliance` with an abstract property `power`. Create two derived classes `WashingMachine` and `Refrigerator` that implement the `power` property. Create objects of the derived classes and access the `power` property.\n",
    "\n",
    "### Assignment 13: Encapsulation in Class Hierarchies\n",
    "\n",
    "Create a base class named `Account` with private attributes `account_number` and `balance`. Add methods to get and set these attributes. Create a derived class named `SavingsAccount` that adds an attribute `interest_rate`. Create an object of the `SavingsAccount` class and test the encapsulation.\n",
    "\n",
    "### Assignment 14: Polymorphism with Multiple Inheritance\n",
    "\n",
    "Create a class named `Flyer` with a method `fly`. Create a class named `Swimmer` with a method `swim`. Create a class named `Superhero` that inherits from both `Flyer` and `Swimmer` and overrides both methods. Create an object of the `Superhero` class and call both methods.\n",
    "\n",
    "### Assignment 15: Abstract Methods and Multiple Inheritance\n",
    "\n",
    "Create an abstract base class named `Worker` with an abstract method `work`. Create two derived classes `Engineer` and `Doctor` that implement the `work` method. Create another derived class `Scientist` that inherits from both `Engineer` and `Doctor`. Create an object of the `Scientist` class and call the `work` method."
   ]
  },
  {
   "cell_type": "code",
   "execution_count": 1,
   "metadata": {},
   "outputs": [
    {
     "name": "stdout",
     "output_type": "stream",
     "text": [
      "78.53981633974483\n",
      "25\n"
     ]
    }
   ],
   "source": [
    "# sol 1 \n",
    "import math\n",
    "class Shape:\n",
    "    def area(self):\n",
    "        return f\"area of the the shape\"\n",
    "    \n",
    "class Circle(Shape):\n",
    "    def __init__(self , radius):\n",
    "        self.radius = radius\n",
    "    def  area(self):    \n",
    "        return math.pi * self.radius * self.radius\n",
    "    \n",
    "class Square(Shape):\n",
    "    def __init__(self, side):\n",
    "        self.side = side\n",
    "    \n",
    "    def area(self):\n",
    "        return self.side * self.side\n",
    "\n",
    "shape = [Circle(5), Square(5)]\n",
    "for i in shape:\n",
    "    print(i.area())\n",
    "\n",
    "\n"
   ]
  },
  {
   "cell_type": "code",
   "execution_count": null,
   "id": "8fb07ed6",
   "metadata": {},
   "outputs": [
    {
     "name": "stdout",
     "output_type": "stream",
     "text": [
      "78.53981633974483\n",
      "9\n"
     ]
    }
   ],
   "source": [
    "#sol 2 \n",
    "def describe_shape(shape):\n",
    "    return shape.area()\n",
    "cr1 = Circle(5)\n",
    "sq1 = Square(3)    \n",
    "print(describe_shape(cr1))\n",
    "print(describe_shape(sq1))"
   ]
  },
  {
   "cell_type": "code",
   "execution_count": 7,
   "id": "404b1efd",
   "metadata": {},
   "outputs": [
    {
     "name": "stdout",
     "output_type": "stream",
     "text": [
      "Car Engine is starting...\n",
      "Bike Engine is starting...\n"
     ]
    }
   ],
   "source": [
    "#sol 3\n",
    "from abc import ABC, abstractmethod\n",
    "class Vehicle(ABC):\n",
    "    @abstractmethod\n",
    "    def start_engine(self):\n",
    "        pass\n",
    "    \n",
    "class Car(Vehicle):\n",
    "    def start_engine(self):\n",
    "        print(\"Car Engine is starting...\")\n",
    "    \n",
    "class Bike(Vehicle):\n",
    "    def start_engine(self):\n",
    "        print(\"Bike Engine is starting...\")\n",
    "car1 = Car()\n",
    "bik1 = Bike()\n",
    "car1.start_engine()\n",
    "bik1.start_engine()"
   ]
  },
  {
   "cell_type": "code",
   "execution_count": null,
   "id": "e488a125",
   "metadata": {},
   "outputs": [
    {
     "name": "stdout",
     "output_type": "stream",
     "text": [
      "Patrol\n",
      "Diesel\n"
     ]
    }
   ],
   "source": [
    "#sol 4\n",
    "from abc import ABC, abstractmethod\n",
    "class Vehicle(ABC):\n",
    "    def fuel_type(self):\n",
    "        print(\"Genric Fuel\")\n",
    "\n",
    "class Bike(Vehicle):\n",
    "    def fuel_type(self):\n",
    "        print(\"Diesel\")\n",
    "\n",
    "class Car(Vehicle):\n",
    "    def fuel_type(self):\n",
    "        print(\"Patrol\")\n",
    "\n",
    "car1 = Car()\n",
    "bik1 = Bike()\n",
    "\n",
    "car1.fuel_type()\n",
    "bik1.fuel_type()    \n",
    "    \n"
   ]
  },
  {
   "cell_type": "code",
   "execution_count": 1,
   "id": "a33cf9c0",
   "metadata": {},
   "outputs": [
    {
     "name": "stdout",
     "output_type": "stream",
     "text": [
      "Account Balance 3000\n",
      "Account Balance 4000\n",
      "Account Balance 3000\n"
     ]
    }
   ],
   "source": [
    "#sol 5\n",
    "class BankAccount:\n",
    "    def __init__(self, account_number , balance):\n",
    "        self.__account_number = account_number\n",
    "        self.__balance = balance\n",
    "\n",
    "    def deposite(self , amount):\n",
    "        self.__amount = amount\n",
    "        self.__balance += self.__amount\n",
    "\n",
    "    def withdraw(self, amount):\n",
    "        self.__amount = amount\n",
    "        if self.__amount>self.__balance:\n",
    "            print(\"Insufficiant balance...\")\n",
    "        else:\n",
    "            self.__balance -= self.__amount\n",
    "    def check_balance(self):\n",
    "        print(f\"Account Balance {self.__balance}\")\n",
    "\n",
    "person = BankAccount('33F01',3000)\n",
    "person.check_balance()\n",
    "person.deposite(1000)\n",
    "person.check_balance()\n",
    "person.withdraw(1000)\n",
    "person.check_balance()\n",
    "\n"
   ]
  },
  {
   "cell_type": "code",
   "execution_count": null,
   "id": "e37e78e4",
   "metadata": {},
   "outputs": [
    {
     "name": "stdout",
     "output_type": "stream",
     "text": [
      "150\n"
     ]
    }
   ],
   "source": [
    "#sol 6\n",
    "class BankAccount:\n",
    "    def __init__(self,account_number , balance=0):\n",
    "         self.__account_number = account_number\n",
    "         self.__balance = balance\n",
    "    \n",
    "    @property\n",
    "    def balance(self):\n",
    "         return self.__balance\n",
    "    \n",
    "    @balance.setter                     # decorator value set karega as balance property ki tarah treat hoga isme.\n",
    "    def balance(self, amount):\n",
    "         self.__amount = amount\n",
    "         if self.__amount<0:\n",
    "              print(f\"{self.__amount} is INVALID AMOUNT.\")\n",
    "         else:\n",
    "              self.__balance = self.__amount\n",
    "\n",
    "    def get_balance(self):\n",
    "         return self.__balance\n",
    "\n",
    "#Test\n",
    "acc1 = BankAccount('333f')\n",
    "acc1.balance = 200\n",
    "acc1.balance = 150\n",
    "print(acc1.get_balance())\n"
   ]
  },
  {
   "cell_type": "code",
   "execution_count": 13,
   "id": "2a258c62",
   "metadata": {},
   "outputs": [
    {
     "name": "stdout",
     "output_type": "stream",
     "text": [
      "20\n"
     ]
    }
   ],
   "source": [
    "#sol 7\n",
    "class Person:\n",
    "    def __init__(self,name , age):\n",
    "        self.__name = name\n",
    "        self.__age = age\n",
    "    @property\n",
    "    def name(self):\n",
    "        return self.__name\n",
    "    @name.setter\n",
    "    def name(self, nam):\n",
    "        self.__name = nam\n",
    "    @property\n",
    "    def age(self):\n",
    "        return self.__age\n",
    "    @age.setter\n",
    "    def  age(self,ag):\n",
    "        self.__age = ag\n",
    "\n",
    "class Student(Person):\n",
    "    def __init__(self,name , age, student_id):\n",
    "        self.__student_id = student_id\n",
    "        super().__init__(name,age)\n",
    "    \n",
    "#test\n",
    "st1 = Student('devil',31 , '303f')\n",
    "st1.age = 20\n",
    "print(st1.age)\n"
   ]
  },
  {
   "cell_type": "code",
   "execution_count": 14,
   "id": "07754c80",
   "metadata": {},
   "outputs": [
    {
     "name": "stdout",
     "output_type": "stream",
     "text": [
      "WOOF!\n",
      "Meow\n"
     ]
    }
   ],
   "source": [
    "#sol 8\n",
    "class Animal:\n",
    "    def speak(self):\n",
    "        pass\n",
    "\n",
    "class Dog(Animal):\n",
    "    def speak(self):\n",
    "        print(\"WOOF!\")\n",
    "class Cat(Animal):\n",
    "    def speak(self):\n",
    "        print(\"Meow\")\n",
    "\n",
    "animal = [Dog(),Cat()]\n",
    "\n",
    "for i in animal:\n",
    "    i.speak()"
   ]
  },
  {
   "cell_type": "code",
   "execution_count": null,
   "id": "34da8b07",
   "metadata": {},
   "outputs": [
    {
     "name": "stdout",
     "output_type": "stream",
     "text": [
      "5000\n",
      "2500\n"
     ]
    }
   ],
   "source": [
    "#sol 9\n",
    "from abc import ABC , abstractmethod\n",
    "class Empolyee(ABC):\n",
    "    @abstractmethod\n",
    "    def calculate_salary(self):\n",
    "        pass\n",
    "\n",
    "class FullTimeEmployee(Empolyee):\n",
    "    def __init__(self,salary):\n",
    "        self.__salary = salary\n",
    "    def calculate_salary(self):\n",
    "        return self.__salary\n",
    "\n",
    "class PartTimeEmployee(Empolyee): \n",
    "    def __init__(self,salary):\n",
    "        self.__salary = salary\n",
    "    def calculate_salary(self):\n",
    "        return self.__salary\n",
    "    \n",
    "#Test\n",
    "PTE1 = PartTimeEmployee(5000)\n",
    "FTE1 = FullTimeEmployee(2500)\n",
    "print(PTE1.calculate_salary())\n",
    "print(FTE1.calculate_salary()) "
   ]
  },
  {
   "cell_type": "code",
   "execution_count": 23,
   "id": "46677c78",
   "metadata": {},
   "outputs": [
    {
     "name": "stdout",
     "output_type": "stream",
     "text": [
      "33f2 dumbel 1500\n",
      "3341f Shoes 200\n"
     ]
    }
   ],
   "source": [
    "#sol 10\n",
    "class Product:\n",
    "    def __init__(self,product_id , name , price):\n",
    "        self.__product_id = product_id\n",
    "        self.__name = name\n",
    "        self.__price = price\n",
    "    \n",
    "    def get_name(self):\n",
    "        return self.__name\n",
    "    def set_name(self , nam):\n",
    "        self.__name = nam\n",
    "\n",
    "    def get_product_id(self):\n",
    "        return self.__product_id\n",
    "    \n",
    "    def set_product_id(self , product):\n",
    "        self.__product_id = product \n",
    "\n",
    "    def get_price(self):\n",
    "        return self.__price\n",
    "    \n",
    "    def set_price(self , price):\n",
    "        if self.__price >= 0:\n",
    "            self.__price = price\n",
    "        else:\n",
    "                raise ValueError(\"Price shouldn't be negative\")\n",
    "        \n",
    "\n",
    "#Test \n",
    "Pod = Product('33f2', 'dumbel',1500)\n",
    "print(Pod.get_product_id(),Pod.get_name(),Pod.get_price())\n",
    "Pod.set_name('Shoes')\n",
    "Pod.set_product_id('3341f')\n",
    "Pod.set_price(200)\n",
    "print(Pod.get_product_id(),Pod.get_name(),Pod.get_price())\n",
    "            \n",
    "\n",
    "\n",
    "\n"
   ]
  },
  {
   "cell_type": "code",
   "execution_count": 24,
   "id": "84aaecfd",
   "metadata": {},
   "outputs": [
    {
     "name": "stdout",
     "output_type": "stream",
     "text": [
      "Vector(3, 6)\n"
     ]
    }
   ],
   "source": [
    "#sol 11\n",
    "class Vector:\n",
    "    def __init__(self,x , y):\n",
    "        self.x = x\n",
    "        self.y = y\n",
    "\n",
    "    def __add__(self,other):\n",
    "        return f\"Vector({self.x + other.x}, {self.y + other.y})\"\n",
    "    \n",
    "\n",
    "#Test \n",
    "v1 = Vector(2,4)\n",
    "v2 = Vector(1,2)\n",
    "print(v1+v2)"
   ]
  },
  {
   "cell_type": "code",
   "execution_count": null,
   "id": "f6296738",
   "metadata": {},
   "outputs": [
    {
     "ename": "SyntaxError",
     "evalue": "expected ':' (3391276221.py, line 3)",
     "output_type": "error",
     "traceback": [
      "  \u001b[36mCell\u001b[39m\u001b[36m \u001b[39m\u001b[32mIn[25]\u001b[39m\u001b[32m, line 3\u001b[39m\n\u001b[31m    \u001b[39m\u001b[31mclass Appliance(AB)\u001b[39m\n                       ^\n\u001b[31mSyntaxError\u001b[39m\u001b[31m:\u001b[39m expected ':'\n"
     ]
    }
   ],
   "source": [
    "#sol 12\n",
    "from abc import ABC, abstractmethod\n",
    "class Appliance(ABC):\n",
    "    def __init__(self,power):\n",
    "        self.power = power\n",
    "    def __\n",
    "\n",
    "        "
   ]
  },
  {
   "cell_type": "code",
   "execution_count": 32,
   "id": "e9e2c863",
   "metadata": {},
   "outputs": [
    {
     "name": "stdout",
     "output_type": "stream",
     "text": [
      "303f\n",
      "3000\n",
      "========\n",
      "302f\n",
      "2400\n"
     ]
    }
   ],
   "source": [
    "#sol 13\n",
    "class Account:\n",
    "    def __init__(self , account_number , balance):\n",
    "        self.__account_number = account_number\n",
    "        self.__balance = balance\n",
    "\n",
    "    def get_account_number(self):\n",
    "        return self.__account_number\n",
    "    \n",
    "    def set_account_number(self, number):\n",
    "        self.__account_number = number \n",
    "\n",
    "    def get_balance(self):\n",
    "        return self.__balance\n",
    "    \n",
    "    def set_balance(self,bal):\n",
    "        if bal < 0 :\n",
    "            print(\"balance shouldn't negative\")\n",
    "        else:\n",
    "            self.__balance = bal\n",
    "class SavingsAccount(Account):\n",
    "    def __init__(self, account_number, balance,  interest_rate):\n",
    "        self.__interest_rate = interest_rate\n",
    "        super().__init__(account_number, balance)\n",
    "#Test\n",
    "acc1 = SavingsAccount('303f', 3000 , 0.05)\n",
    "print(acc1.get_account_number())\n",
    "print(acc1.get_balance())\n",
    "acc1.set_account_number('302f')\n",
    "acc1.set_balance(2400)\n",
    "print(\"========\")\n",
    "print(acc1.get_account_number())\n",
    "print(acc1.get_balance())\n"
   ]
  },
  {
   "cell_type": "code",
   "execution_count": 33,
   "id": "0e7c23a3",
   "metadata": {},
   "outputs": [
    {
     "name": "stdout",
     "output_type": "stream",
     "text": [
      "Flying...\n",
      "Swimming...\n"
     ]
    }
   ],
   "source": [
    "#sol 14\n",
    "class Flyer:\n",
    "    def fly(self):\n",
    "        print(\"Flying...\")\n",
    "\n",
    "class Swimmer:\n",
    "    def swim(self):\n",
    "        print(\"Swimming...\")\n",
    "\n",
    "class Superhero(Flyer , Swimmer):\n",
    "    pass\n",
    "\n",
    "super_man = Superhero()\n",
    "super_man.fly()\n",
    "super_man.swim()"
   ]
  },
  {
   "cell_type": "code",
   "execution_count": 36,
   "id": "7ecea178",
   "metadata": {},
   "outputs": [
    {
     "name": "stdout",
     "output_type": "stream",
     "text": [
      "I build\n",
      "I save\n"
     ]
    }
   ],
   "source": [
    "#sol 15\n",
    "from abc import ABC, abstractmethod\n",
    "class Worker(ABC):\n",
    "    @abstractmethod\n",
    "    def work(self):\n",
    "        pass\n",
    "\n",
    "class Engineer(Worker):\n",
    "    def work(self):\n",
    "        return f\"I build\"\n",
    "class Doctor(Worker):\n",
    "    def work(self):\n",
    "        return f\"I save\"\n",
    "    \n",
    "class Scientist(Doctor, Engineer):\n",
    "    def work(self):\n",
    "        print(Engineer.work(self))\n",
    "        print(Doctor.work(self))\n",
    "\n",
    "deepak = Scientist()\n",
    "deepak.work()"
   ]
  }
 ],
 "metadata": {
  "kernelspec": {
   "display_name": "Python 3",
   "language": "python",
   "name": "python3"
  },
  "language_info": {
   "codemirror_mode": {
    "name": "ipython",
    "version": 3
   },
   "file_extension": ".py",
   "mimetype": "text/x-python",
   "name": "python",
   "nbconvert_exporter": "python",
   "pygments_lexer": "ipython3",
   "version": "3.11.9"
  }
 },
 "nbformat": 4,
 "nbformat_minor": 5
}
