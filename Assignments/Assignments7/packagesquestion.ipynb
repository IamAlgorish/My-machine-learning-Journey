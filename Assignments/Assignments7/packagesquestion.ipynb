{
 "cells": [
  {
   "cell_type": "markdown",
   "metadata": {},
   "source": [
    "# Module 5: Modules and Packages Assignments\n",
    "## Lesson 5.1: Importing Modules\n",
    "### Assignment 1: Importing and Using Modules\n",
    "\n",
    "Import the `math` module and use it to calculate the square root of 25 and the sine of 90 degrees.\n",
    "\n",
    "### Assignment 2: Aliasing Modules\n",
    "\n",
    "Import the `datetime` module with an alias and use it to print the current date and time.\n",
    "\n",
    "### Assignment 3: Importing Specific Functions\n",
    "\n",
    "Import the `randint` function from the `random` module and use it to generate a random integer between 1 and 100.\n",
    "\n",
    "### Assignment 4: Importing Multiple Functions\n",
    "\n",
    "Import the `sqrt` and `pow` functions from the `math` module and use them to calculate the square root of 16 and 2 raised to the power of 3.\n",
    "\n",
    "### Assignment 5: Handling Import Errors\n",
    "\n",
    "Write code that attempts to import a non-existent module and gracefully handles the import error by printing an error message.\n",
    "\n",
    "## Lesson 5.2: Standard Library Overview\n",
    "### Assignment 6: Working with the `os` Module\n",
    "\n",
    "Use the `os` module to create a new directory, list the contents of the current directory, and remove the newly created directory.\n",
    "\n",
    "### Assignment 7: Working with the `sys` Module\n",
    "\n",
    "Use the `sys` module to print the Python version currently in use and the command-line arguments passed to the script.\n",
    "\n",
    "### Assignment 8: Working with the `math` Module\n",
    "\n",
    "Use the `math` module to calculate the greatest common divisor (GCD) of two numbers and the factorial of a number.\n",
    "\n",
    "### Assignment 9: Working with the `datetime` Module\n",
    "\n",
    "Use the `datetime` module to print the current date, calculate the date 100 days from today, and determine the day of the week for a given date.\n",
    "\n",
    "### Assignment 10: Working with the `random` Module\n",
    "\n",
    "Use the `random` module to generate a list of 5 random numbers between 1 and 50 and shuffle the elements of a list.\n",
    "\n",
    "## Lesson 5.3: Creating and Using Packages\n",
    "### Assignment 11: Creating a Simple Package\n",
    "\n",
    "Create a package named `mypackage` with two modules: `module1` and `module2`. `module1` should contain a function that adds two numbers, and `module2` should contain a function that multiplies two numbers. Write code to use these functions.\n",
    "\n",
    "### Assignment 12: Using `__init__.py`\n",
    "\n",
    "Modify the `mypackage` package to include an `__init__.py` file that imports the functions from `module1` and `module2`. Write code to use these functions.\n",
    "\n",
    "### Assignment 13: Importing from a Package\n",
    "\n",
    "Write code to import and use the functions from `mypackage` without explicitly importing `module1` and `module2`.\n",
    "\n",
    "### Assignment 14: Relative Imports\n",
    "\n",
    "Create a subpackage named `subpackage` within `mypackage` and move `module2` into `subpackage`. Modify the import statements in `__init__.py` to use relative imports. Write code to use the functions from both modules.\n",
    "\n",
    "### Assignment 15: Handling Package Import Errors\n",
    "\n",
    "Write code that attempts to import a non-existent function from `mypackage` and gracefully handles the import error by printing an error message."
   ]
  },
  {
   "cell_type": "code",
   "execution_count": 3,
   "id": "38c12d48",
   "metadata": {},
   "outputs": [
    {
     "data": {
      "text/plain": [
       "1.0"
      ]
     },
     "execution_count": 3,
     "metadata": {},
     "output_type": "execute_result"
    }
   ],
   "source": [
    "#sol - 1\n",
    "import math \n",
    "math.sqrt(25)\n",
    "math.sin(math.radians(90))"
   ]
  },
  {
   "cell_type": "code",
   "execution_count": 6,
   "id": "c43b1dab",
   "metadata": {},
   "outputs": [
    {
     "data": {
      "text/plain": [
       "datetime.datetime(2024, 10, 31, 13, 15, 46, 639808)"
      ]
     },
     "execution_count": 6,
     "metadata": {},
     "output_type": "execute_result"
    }
   ],
   "source": [
    "#sol - 2\n",
    "import datetime as tf\n",
    "tf.datetime.now()"
   ]
  },
  {
   "cell_type": "code",
   "execution_count": 11,
   "id": "cff70a85",
   "metadata": {},
   "outputs": [
    {
     "name": "stdout",
     "output_type": "stream",
     "text": [
      "38\n"
     ]
    }
   ],
   "source": [
    "#sol - 3\n",
    "import random\n",
    "gen = random.randint(1,100)\n",
    "print(gen)"
   ]
  },
  {
   "cell_type": "code",
   "execution_count": 14,
   "id": "0539a3e7",
   "metadata": {},
   "outputs": [
    {
     "name": "stdout",
     "output_type": "stream",
     "text": [
      "4.0\n",
      "8.0\n"
     ]
    }
   ],
   "source": [
    "#sol - 4\n",
    "from math import sqrt , pow\n",
    "print(sqrt(16))\n",
    "print(pow(2,3))"
   ]
  },
  {
   "cell_type": "code",
   "execution_count": 21,
   "id": "a02a1102",
   "metadata": {},
   "outputs": [
    {
     "name": "stdout",
     "output_type": "stream",
     "text": [
      "module not found: No module named 'non_existing_module'\n"
     ]
    }
   ],
   "source": [
    "#sol - 5\n",
    "try:\n",
    "    import non_existing_module\n",
    "except ImportError as e:\n",
    "    print(f\"module not found: {e}\")\n",
    "\n",
    "\n"
   ]
  },
  {
   "cell_type": "code",
   "execution_count": 36,
   "id": "3a1019a9",
   "metadata": {},
   "outputs": [
    {
     "name": "stdout",
     "output_type": "stream",
     "text": [
      "['kira', 'package', 'packagesquestion.ipynb', 'packagessolution.ipynb', 'test.ipynb']\n",
      "['package', 'packagesquestion.ipynb', 'packagessolution.ipynb', 'test.ipynb']\n"
     ]
    }
   ],
   "source": [
    "#sol - 6 \n",
    "import os\n",
    "os.mkdir('kira')\n",
    "print(os.listdir('.'))  # ye pwd sare print krege jo bhi files h isme  \n",
    "os.rmdir('kira')\n",
    "print(os.listdir('.'))"
   ]
  },
  {
   "cell_type": "code",
   "execution_count": 42,
   "id": "7d25d0e5",
   "metadata": {},
   "outputs": [
    {
     "name": "stdout",
     "output_type": "stream",
     "text": [
      "3.11.9 (tags/v3.11.9:de54cf5, Apr  2 2024, 10:12:12) [MSC v.1938 64 bit (AMD64)]\n",
      "['C:\\\\Users\\\\risha\\\\AppData\\\\Local\\\\Packages\\\\PythonSoftwareFoundation.Python.3.11_qbz5n2kfra8p0\\\\LocalCache\\\\local-packages\\\\Python311\\\\site-packages\\\\ipykernel_launcher.py', '--f=c:\\\\Users\\\\risha\\\\AppData\\\\Roaming\\\\jupyter\\\\runtime\\\\kernel-v3f3e8f4e863629b64f3b9306372da44d837e86748.json']\n"
     ]
    }
   ],
   "source": [
    "#sol - 7\n",
    "import sys\n",
    "print(sys.version)\n",
    "print(sys.argv)"
   ]
  },
  {
   "cell_type": "code",
   "execution_count": 46,
   "id": "6f393904",
   "metadata": {},
   "outputs": [
    {
     "name": "stdout",
     "output_type": "stream",
     "text": [
      "5\n",
      "120\n"
     ]
    }
   ],
   "source": [
    "#sol - 8\n",
    "import math\n",
    "fun = math.gcd(5,125)\n",
    "print(fun)\n",
    "print(math.factorial(fun))\n",
    "\n",
    "\n"
   ]
  },
  {
   "cell_type": "code",
   "execution_count": 71,
   "id": "070ca220",
   "metadata": {},
   "outputs": [
    {
     "name": "stdout",
     "output_type": "stream",
     "text": [
      "Today date: 2024-10-31\n",
      "After 100 days from today: 2025-02-08\n",
      "week day of the given date : Sunday\n"
     ]
    }
   ],
   "source": [
    "#sol - 9\n",
    "import datetime\n",
    "today = datetime.date.today()\n",
    "print(f\"Today date: {today}\")\n",
    "future = today + datetime.timedelta(days=100)\n",
    "print(f\"After 100 days from today: {future}\")\n",
    "given_date = datetime.date(2022,1,2)\n",
    "print(f\"week day of the given date : {given_date.strftime('%A')}\")\n",
    "\n"
   ]
  },
  {
   "cell_type": "code",
   "execution_count": 3,
   "id": "2ed486f6",
   "metadata": {},
   "outputs": [
    {
     "name": "stdout",
     "output_type": "stream",
     "text": [
      "[5, 12, 45, 31, 30]\n",
      "[5, 12, 31, 30, 45]\n"
     ]
    }
   ],
   "source": [
    "#sol - 10\n",
    "import random\n",
    "lst = [random.randint(1,50) for _ in range(5) ]\n",
    "print(lst)\n",
    "random.shuffle(lst)\n",
    "print(lst)"
   ]
  },
  {
   "cell_type": "code",
   "execution_count": null,
   "metadata": {},
   "outputs": [
    {
     "name": "stdout",
     "output_type": "stream",
     "text": [
      "3\n",
      "2\n"
     ]
    }
   ],
   "source": [
    "#sol - 11\n",
    "from mypackage import module1\n",
    "from mypackage.subpackage import module2\n",
    "print(module1.add(2,1))\n",
    "print(module2.mul(2,1))\n"
   ]
  },
  {
   "cell_type": "code",
   "execution_count": null,
   "id": "8ffc144c",
   "metadata": {},
   "outputs": [
    {
     "name": "stdout",
     "output_type": "stream",
     "text": [
      "3\n",
      "2\n"
     ]
    }
   ],
   "source": [
    "#sol - 12\n",
    "from mypackage import add , mul\n",
    "print(add(1,2))\n",
    "print(mul(1,2))\n",
    "\n"
   ]
  },
  {
   "cell_type": "code",
   "execution_count": null,
   "id": "e0f3825c",
   "metadata": {},
   "outputs": [
    {
     "name": "stdout",
     "output_type": "stream",
     "text": [
      "9\n",
      "7\n"
     ]
    }
   ],
   "source": [
    "#sol - 13\n",
    "from mypackage import add,mul\n",
    "print(add(4,5))\n",
    "print(mul(2,5))\n"
   ]
  },
  {
   "cell_type": "code",
   "execution_count": null,
   "id": "61e6264e",
   "metadata": {},
   "outputs": [
    {
     "ename": "ModuleNotFoundError",
     "evalue": "No module named 'mypackage.module2'",
     "output_type": "error",
     "traceback": [
      "\u001b[1;31m---------------------------------------------------------------------------\u001b[0m",
      "\u001b[1;31mModuleNotFoundError\u001b[0m                       Traceback (most recent call last)",
      "Cell \u001b[1;32mIn[2], line 2\u001b[0m\n\u001b[0;32m      1\u001b[0m \u001b[38;5;66;03m#sol - 14\u001b[39;00m\n\u001b[1;32m----> 2\u001b[0m \u001b[38;5;28;01mfrom\u001b[39;00m \u001b[38;5;21;01mmypackage\u001b[39;00m \u001b[38;5;28;01mimport\u001b[39;00m add,mul\n",
      "File \u001b[1;32mc:\\Users\\risha\\OneDrive\\Desktop\\My Machine Learning journey\\Assignment\\Assignment\\Assignment7\\mypackage\\__init__.py:2\u001b[0m\n\u001b[0;32m      1\u001b[0m \u001b[38;5;28;01mfrom\u001b[39;00m \u001b[38;5;21;01m.\u001b[39;00m\u001b[38;5;21;01mmodule1\u001b[39;00m \u001b[38;5;28;01mimport\u001b[39;00m add\n\u001b[1;32m----> 2\u001b[0m \u001b[38;5;28;01mfrom\u001b[39;00m \u001b[38;5;21;01m.\u001b[39;00m\u001b[38;5;21;01mmodule2\u001b[39;00m \u001b[38;5;28;01mimport\u001b[39;00m mul\n",
      "\u001b[1;31mModuleNotFoundError\u001b[0m: No module named 'mypackage.module2'"
     ]
    }
   ],
   "source": [
    "#sol - 14\n",
    "from mypackage import add,mul\n",
    "print(add(1,2))\n",
    "print(mul(2,3))\n",
    "\n",
    "\n",
    "\n"
   ]
  },
  {
   "cell_type": "code",
   "execution_count": 8,
   "id": "e974148d",
   "metadata": {},
   "outputs": [
    {
     "name": "stdout",
     "output_type": "stream",
     "text": [
      "Module not found : cannot import name 'non_existent_function' from 'mypackage' (c:\\Users\\risha\\OneDrive\\Desktop\\My Machine Learning journey\\Assignment\\Assignment\\Assignment7\\mypackage\\__init__.py)\n"
     ]
    }
   ],
   "source": [
    "#sol - 15\n",
    "try:\n",
    "    from mypackage import non_existent_function\n",
    "except ImportError as e:\n",
    "    print(f\"Module not found : {e}\")"
   ]
  }
 ],
 "metadata": {
  "kernelspec": {
   "display_name": "Python 3",
   "language": "python",
   "name": "python3"
  },
  "language_info": {
   "codemirror_mode": {
    "name": "ipython",
    "version": 3
   },
   "file_extension": ".py",
   "mimetype": "text/x-python",
   "name": "python",
   "nbconvert_exporter": "python",
   "pygments_lexer": "ipython3",
   "version": "3.11.9"
  }
 },
 "nbformat": 4,
 "nbformat_minor": 5
}
