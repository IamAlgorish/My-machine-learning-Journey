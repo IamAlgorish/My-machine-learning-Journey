{
 "cells": [
  {
   "cell_type": "code",
   "execution_count": 14,
   "id": "740e1c83",
   "metadata": {},
   "outputs": [
    {
     "ename": "SyntaxError",
     "evalue": "invalid decimal literal (1478960198.py, line 29)",
     "output_type": "error",
     "traceback": [
      "\u001b[1;36m  Cell \u001b[1;32mIn[14], line 29\u001b[1;36m\u001b[0m\n\u001b[1;33m    Create a nested list representing a 3x3 matrix and print the matrix. Access and print the element at the second row and third column.\u001b[0m\n\u001b[1;37m                                        ^\u001b[0m\n\u001b[1;31mSyntaxError\u001b[0m\u001b[1;31m:\u001b[0m invalid decimal literal\n"
     ]
    }
   ],
   "source": [
    "# Module 3: Data Structures Assignments\n",
    "## Lesson 3.1: Lists\n",
    "### Assignment 1: Creating and Accessing Lists\n",
    "\n",
    "Create a list of the first 20 positive integers. Print the list.\n",
    "\n",
    "### Assignment 2: Accessing List Elements\n",
    "\n",
    "Print the first, middle, and last elements of the list created in Assignment 1.\n",
    "\n",
    "### Assignment 3: List Slicing\n",
    "\n",
    "Print the first five elements, the last five elements, and the elements from index 5 to 15 of the list created in Assignment 1.\n",
    "\n",
    "### Assignment 4: List Comprehensions\n",
    "\n",
    "Create a new list containing the squares of the first 10 positive integers using a list comprehension. Print the new list.\n",
    "\n",
    "### Assignment 5: Filtering Lists\n",
    "\n",
    "Create a new list containing only the even numbers from the list created in Assignment 1 using a list comprehension. Print the new list.\n",
    "\n",
    "### Assignment 6: List Methods\n",
    "\n",
    "Create a list of random numbers and sort it in ascending and descending order. Remove the duplicates from the list and print the modified list.\n",
    "\n",
    "### Assignment 7: Nested Lists\n",
    "\n",
    "Create a nested list representing a 3x3 matrix and print the matrix. Access and print the element at the second row and third column.\n",
    "\n",
    "### Assignment 8: List of Dictionaries\n",
    "\n",
    "Create a list of dictionaries where each dictionary represents a student with keys 'name' and 'score'. Sort the list of dictionaries by the 'score' in descending order and print the sorted list.\n",
    "\n",
    "### Assignment 9: Matrix Transposition\n",
    "\n",
    "Write a function that takes a 3x3 matrix (nested list) as input and returns its transpose. Print the original and transposed matrices.\n",
    "\n",
    "### Assignment 10: Flattening a Nested List\n",
    "\n",
    "Write a function that takes a nested list and flattens it into a single list. Print the original and flattened lists.\n",
    "\n",
    "### Assignment 11: List Manipulation\n",
    "\n",
    "Create a list of the first 10 positive integers. Remove the elements at indices 2, 4, and 6, and insert the element '99' at index 5. Print the modified list.\n",
    "\n",
    "### Assignment 12: List Zipping\n",
    "\n",
    "Create two lists of the same length. Use the `zip` function to combine these lists into a list of tuples and print the result.\n",
    "\n",
    "### Assignment 13: List Reversal\n",
    "\n",
    "Write a function that takes a list and returns a new list with the elements in reverse order. Print the original and reversed lists.\n",
    "\n",
    "### Assignment 14: List Rotation\n",
    "\n",
    "Write a function that rotates a list by n positions. Print the original and rotated lists.\n",
    "\n",
    "### Assignment 15: List Intersection\n",
    "\n",
    "Write a function that takes two lists and returns a new list containing only the elements that are present in both lists. Print the intersected list."
   ]
  },
  {
   "cell_type": "code",
   "execution_count": 3,
   "metadata": {},
   "outputs": [
    {
     "name": "stdout",
     "output_type": "stream",
     "text": [
      "[0, 1, 2, 3, 4, 5, 6, 7, 8, 9, 10, 11, 12, 13, 14, 15, 16, 17, 18, 19]\n"
     ]
    }
   ],
   "source": [
    "# sol -1 \n",
    "list = [i for i in range(20)]\n",
    "print(list)"
   ]
  },
  {
   "cell_type": "code",
   "execution_count": 4,
   "id": "b0b2fcd6",
   "metadata": {},
   "outputs": [
    {
     "name": "stdout",
     "output_type": "stream",
     "text": [
      "0\n",
      "10\n",
      "19\n"
     ]
    }
   ],
   "source": [
    "# sol - 2\n",
    "i = len(list)\n",
    "# first, middle and last\n",
    "print(list[0])\n",
    "print(list[int(i/2)])\n",
    "print(list[i-1])"
   ]
  },
  {
   "cell_type": "code",
   "execution_count": 5,
   "id": "f3bcdbd2",
   "metadata": {},
   "outputs": [
    {
     "name": "stdout",
     "output_type": "stream",
     "text": [
      "[5, 6, 7, 8, 9]\n",
      "[10, 11, 12, 13, 14]\n"
     ]
    }
   ],
   "source": [
    "# sol - 3\n",
    "# first 5 b/w index 5 to 15\n",
    "print(list[5:10])\n",
    "# last 5 \n",
    "print(list[10:15])"
   ]
  },
  {
   "cell_type": "code",
   "execution_count": 6,
   "id": "974dd993",
   "metadata": {},
   "outputs": [
    {
     "name": "stdout",
     "output_type": "stream",
     "text": [
      "[0, 1, 4, 9, 16, 25, 36, 49, 64, 81]\n"
     ]
    }
   ],
   "source": [
    "# sol - 4 list compersision\n",
    "new_list = [i*i for i in range(10)]\n",
    "print(new_list)"
   ]
  },
  {
   "cell_type": "code",
   "execution_count": 8,
   "id": "305713d0",
   "metadata": {},
   "outputs": [
    {
     "name": "stdout",
     "output_type": "stream",
     "text": [
      "[0, 2, 4, 6, 8, 10, 12, 14, 16, 18]\n"
     ]
    }
   ],
   "source": [
    "# sol - 5\n",
    "# new list with even contain old list in assignment\n",
    "even_list = [i for i in list if i%2==0 ]\n",
    "print(even_list)"
   ]
  },
  {
   "cell_type": "code",
   "execution_count": 33,
   "id": "6ba435b3",
   "metadata": {},
   "outputs": [
    {
     "name": "stdout",
     "output_type": "stream",
     "text": [
      "Original list: [9, 82, 28, 41, 24, 79, 43, 2, 63, 79]\n",
      "Accending order  [2, 9, 24, 28, 41, 43, 63, 79, 79, 82]\n",
      "Decending  order [82, 79, 79, 63, 43, 41, 28, 24, 9, 2]\n",
      "after removal of duplication {2, 9, 41, 43, 79, 82, 24, 28, 63}\n"
     ]
    }
   ],
   "source": [
    "# sol - 6 List method\n",
    "import random\n",
    "randomlist = [random.randint(1, 99) for i in range(10)]\n",
    "print(f\"Original list: {randomlist}\")\n",
    "# accending descending and remove duplicates\n",
    "# sort in accending order\n",
    "accending = sorted(randomlist)\n",
    "print(\"Accending order \",accending)\n",
    "# decending\n",
    "decending = sorted(randomlist,reverse=True)\n",
    "print(\"Decending  order\",decending)\n",
    "# remove duplicates in the list\n",
    "unique = set(randomlist)\n",
    "print(\"after removal of duplication\",unique)"
   ]
  },
  {
   "cell_type": "code",
   "execution_count": 10,
   "id": "aa8d227c",
   "metadata": {},
   "outputs": [
    {
     "name": "stdout",
     "output_type": "stream",
     "text": [
      "[1, 2, 3]\n",
      "[4, 5, 6]\n",
      "[7, 8, 9]\n",
      "6\n"
     ]
    }
   ],
   "source": [
    "# sol - 7\n",
    "import random\n",
    "list7 = [\n",
    "    [1, 2, 3],\n",
    "    [4, 5, 6],\n",
    "    [7, 8, 9]\n",
    "]\n",
    "for i in list7:\n",
    "    print(i)\n",
    "# row to 3rd column\n",
    "print(list7[1][2])\n",
    "\n",
    "\n"
   ]
  },
  {
   "cell_type": "code",
   "execution_count": 11,
   "id": "cb0bb208",
   "metadata": {},
   "outputs": [
    {
     "name": "stdout",
     "output_type": "stream",
     "text": [
      "{'name': 'Rishabh', 'score': 100}\n",
      "{'name': 'Jishant', 'score': 70}\n",
      "{'name': 'Gaurav', 'score': 60}\n",
      "{'name': 'Akansha', 'score': 60}\n",
      "{'name': 'Aditya', 'score': 50}\n",
      "{'name': 'Manish', 'score': 0}\n"
     ]
    }
   ],
   "source": [
    "# sol 8 creating list with name score and keys\n",
    "student = [\n",
    "    {'name':'Rishabh','score':100},\n",
    "    {'name':'Aditya','score':50},\n",
    "    {'name':'Gaurav','score':60},\n",
    "    {'name':'Jishant','score':70},\n",
    "    {'name':'Akansha','score':60},\n",
    "     {'name':'Manish','score':0}\n",
    "]\n",
    "sorted_student = sorted(student ,key = lambda x: x['score'], reverse=True)\n",
    "\n",
    "for i in sorted_student:\n",
    "            \n",
    "            print(i)"
   ]
  },
  {
   "cell_type": "code",
   "execution_count": 22,
   "id": "79ba6132",
   "metadata": {},
   "outputs": [
    {
     "name": "stdout",
     "output_type": "stream",
     "text": [
      "[1, 2, 3]\n",
      "[4, 5, 6]\n",
      "[7, 8, 9]\n",
      "Transposed matrix :\n",
      "[1, 4, 7]\n",
      "[2, 5, 8]\n",
      "[3, 6, 9]\n"
     ]
    }
   ],
   "source": [
    "# sol - 9 3x3 mattrix\n",
    "matrix = [[0 for _ in range(3)] for _ in range(3)]\n",
    "for i in range(3):\n",
    "    for j in range(3):\n",
    "        matrix[i][j]= int(input(f\"Enter the element at {i},{j} matrix:\"))\n",
    "\n",
    "for i in matrix:\n",
    "    print(i)\n",
    "    # transpose\n",
    "for i in range(2):\n",
    "    j=i+1\n",
    "    while j<len(matrix):\n",
    "        num = matrix[i][j]\n",
    "        matrix[i][j] = matrix[j][i]\n",
    "        matrix[j][i] = num\n",
    "        j+=1\n",
    "\n",
    "print(\"Transposed matrix :\")\n",
    "for i in matrix:\n",
    "    print(i)\n",
    "\n"
   ]
  },
  {
   "cell_type": "code",
   "execution_count": 10,
   "id": "c52fc17e",
   "metadata": {},
   "outputs": [
    {
     "name": "stdout",
     "output_type": "stream",
     "text": [
      "[1, 2, 3, 4, 5, 6, 7, 8, 9]\n"
     ]
    }
   ],
   "source": [
    "# sol - 10 flattening a nested list (Write a function that takes a nested list and flattens it into a single list. Print the original and flattened lists.)\n",
    "\n",
    "def fun(list):\n",
    "    new_list= [0 for _ in range(len(list)*len(list))]\n",
    "    i = len(new_list)\n",
    "    d = 0\n",
    "    for j in range(len(list)):\n",
    "        for k in range(len(list)):\n",
    "            new_list[d] = list[j][k]\n",
    "            d+=1\n",
    "    return new_list\n",
    "\n",
    "flaten_list = [\n",
    "    [1,2,3],\n",
    "    [4,5,6],\n",
    "    [7,8,9]\n",
    "]\n",
    "\n",
    "print(fun(flaten_list))"
   ]
  },
  {
   "cell_type": "code",
   "execution_count": 16,
   "id": "4907862c",
   "metadata": {},
   "outputs": [
    {
     "name": "stdout",
     "output_type": "stream",
     "text": [
      "Modified list [0, 1, 3, 4, 6, 99, 7, 9]\n"
     ]
    }
   ],
   "source": [
    "# sol - 11 - Create a list of the first 10 positive integers. Remove the elements at indices 2, 4, and 6, and insert the element '99' at index 5. Print the modified list.\n",
    "list = [i for i in range(10)]\n",
    "del list[2]\n",
    "del list[4]\n",
    "del list[6]\n",
    "list.insert(5,99)\n",
    "print(\"Modified list\",list)\n"
   ]
  },
  {
   "cell_type": "code",
   "execution_count": 1,
   "id": "63adf114",
   "metadata": {},
   "outputs": [
    {
     "name": "stdout",
     "output_type": "stream",
     "text": [
      "[(1, 5), (2, 6), (3, 7), (4, 8)]\n"
     ]
    }
   ],
   "source": [
    "# sol 12\n",
    "list1 = [1,2,3,4]\n",
    "list2 = [5,6,7,8]\n",
    "ans_list = list(zip(list1,list2))\n",
    "print(ans_list)"
   ]
  },
  {
   "cell_type": "code",
   "execution_count": 4,
   "id": "9f387e85",
   "metadata": {},
   "outputs": [
    {
     "name": "stdout",
     "output_type": "stream",
     "text": [
      "[0, 1, 2, 3, 4]\n",
      "Changed list : [4, 3, 2, 1, 0]\n"
     ]
    }
   ],
   "source": [
    "# sol 13 - Write a function that takes a list and returns a new list with the elements in reverse order. Print the original and reversed lists.\n",
    "def reverseal(list):\n",
    "  j = len(list)-1\n",
    "  i = 0\n",
    "  while i<j:\n",
    "    temp = list[i]\n",
    "    list[i] = list[j]\n",
    "    list[j] = temp\n",
    "    i+=1\n",
    "    j-=1\n",
    "  return list\n",
    "  \n",
    "list = [i for i in range(5)]\n",
    "print(list)\n",
    "print(\"Changed list :\",reverseal(list))"
   ]
  },
  {
   "cell_type": "code",
   "execution_count": 7,
   "id": "c59f4e28",
   "metadata": {},
   "outputs": [
    {
     "name": "stdout",
     "output_type": "stream",
     "text": [
      "['3', '4', '5', '1', '2']\n"
     ]
    }
   ],
   "source": [
    "# sol 14 Write a function that rotates a list by n positions. Print the original and rotated lists.\n",
    "def rotator(list,n):\n",
    "    return list[n:] + list[:n]\n",
    "n = int(input(\"Enter the size of the list\"))\n",
    "list= [i for i in range (n)]\n",
    "for i in range(n):\n",
    "    list[i] = input(f\"element of list at index=  {i}\")\n",
    "position = int(input(\"Enter the position from where you want to rotate the list\"))\n",
    "print(rotator(list,position))"
   ]
  },
  {
   "cell_type": "code",
   "execution_count": 8,
   "id": "fb60b801",
   "metadata": {},
   "outputs": [
    {
     "name": "stdout",
     "output_type": "stream",
     "text": [
      "[1, 3, 5, 6]\n"
     ]
    }
   ],
   "source": [
    "# sol 15 ->Write a function that takes two lists and returns a new list containing only the elements that are present in both lists. Print the intersected list.\n",
    "def intersector(list1 , list2 ):\n",
    "    \n",
    "    return [x for x in list1 if x in list2]\n",
    "list1 = {1,2,3,5,6,7,8,9}\n",
    "list2 = {4,3,5,1,6}\n",
    "print(intersector(list1,list2))\n"
   ]
  }
 ],
 "metadata": {
  "kernelspec": {
   "display_name": "Python 3",
   "language": "python",
   "name": "python3"
  },
  "language_info": {
   "codemirror_mode": {
    "name": "ipython",
    "version": 3
   },
   "file_extension": ".py",
   "mimetype": "text/x-python",
   "name": "python",
   "nbconvert_exporter": "python",
   "pygments_lexer": "ipython3",
   "version": "3.12.4"
  }
 },
 "nbformat": 4,
 "nbformat_minor": 5
}
