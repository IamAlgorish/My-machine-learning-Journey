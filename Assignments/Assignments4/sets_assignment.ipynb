{
 "cells": [
  {
   "cell_type": "markdown",
   "metadata": {},
   "source": [
    "# Module 3: Data Structures Assignments\n",
    "## Lesson 3.3: Sets\n",
    "### Assignment 1: Creating and Accessing Sets\n",
    "\n",
    "Create a set with the first 10 positive integers. Print the set.\n",
    "\n",
    "### Assignment 2: Adding and Removing Elements\n",
    "\n",
    "Add the number 11 to the set created in Assignment 1. Then remove the number 1 from the set. Print the modified set.\n",
    "\n",
    "### Assignment 3: Set Operations\n",
    "\n",
    "Create two sets: one with the first 5 positive integers and another with the first 5 even integers. Perform and print the results of union, intersection, difference, and symmetric difference operations on these sets.\n",
    "\n",
    "### Assignment 4: Set Comprehensions\n",
    "\n",
    "Create a new set containing the squares of the first 10 positive integers using a set comprehension. Print the new set.\n",
    "\n",
    "### Assignment 5: Filtering Sets\n",
    "\n",
    "Create a new set containing only the even numbers from the set created in Assignment 1 using a set comprehension. Print the new set.\n",
    "\n",
    "### Assignment 6: Set Methods\n",
    "\n",
    "Create a set with duplicate elements and remove the duplicates using set methods. Print the modified set.\n",
    "\n",
    "### Assignment 7: Subsets and Supersets\n",
    "\n",
    "Create two sets: one with the first 5 positive integers and another with the first 3 positive integers. Check if the second set is a subset of the first set and if the first set is a superset of the second set. Print the results.\n",
    "\n",
    "### Assignment 8: Frozenset\n",
    "\n",
    "Create a frozenset with the first 5 positive integers. Print the frozenset.\n",
    "\n",
    "### Assignment 9: Set and List Conversion\n",
    "\n",
    "Create a set with the first 5 positive integers. Convert it to a list, append the number 6, and convert it back to a set. Print the resulting set.\n",
    "\n",
    "### Assignment 10: Set and Dictionary\n",
    "\n",
    "Create a dictionary with set keys and integer values. Print the dictionary.\n",
    "\n",
    "### Assignment 11: Iterating Over Sets\n",
    "\n",
    "Create a set and iterate over the elements, printing each element.\n",
    "\n",
    "### Assignment 12: Removing Elements from Sets\n",
    "\n",
    "Create a set and remove elements from it until it is empty. Print the set after each removal.\n",
    "\n",
    "### Assignment 13: Set Symmetric Difference Update\n",
    "\n",
    "Create two sets and update the first set with the symmetric difference of the two sets. Print the modified first set.\n",
    "\n",
    "### Assignment 14: Set Membership Testing\n",
    "\n",
    "Create a set and test if certain elements are present in the set. Print the results.\n",
    "\n",
    "### Assignment 15: Set of Tuples\n",
    "\n",
    "Create a set containing tuples, where each tuple contains two elements. Print the set."
   ]
  },
  {
   "cell_type": "code",
   "execution_count": 13,
   "metadata": {},
   "outputs": [
    {
     "name": "stdout",
     "output_type": "stream",
     "text": [
      "{1, 2, 3, 4, 5, 6, 7, 8, 9, 10}\n"
     ]
    }
   ],
   "source": [
    "# sol 1\n",
    "lst = [i for i in range(1,11)]\n",
    "set1 = set(lst)\n",
    "print(set1)"
   ]
  },
  {
   "cell_type": "code",
   "execution_count": 8,
   "id": "e6feabaa",
   "metadata": {},
   "outputs": [
    {
     "name": "stdout",
     "output_type": "stream",
     "text": [
      "{1, 2, 3, 4, 5, 6, 7, 8, 9, 10}\n",
      "{2, 3, 4, 5, 6, 7, 8, 9, 10}\n"
     ]
    }
   ],
   "source": [
    "# sol 2\n",
    "set1.add(10)\n",
    "print(set1)\n",
    "set1.pop()\n",
    "print(set1)\n"
   ]
  },
  {
   "cell_type": "code",
   "execution_count": 6,
   "id": "98488722",
   "metadata": {},
   "outputs": [
    {
     "name": "stdout",
     "output_type": "stream",
     "text": [
      "{2, 4, 6, 8, 10}\n",
      "{1, 2, 3, 4, 5}\n",
      "Union: {1, 2, 3, 4, 5, 6, 8, 10}\n",
      "Intersect {2, 4}\n",
      "defference: {1, 3, 5}\n",
      "symetric difference: {1, 3, 5, 6, 8, 10}\n"
     ]
    }
   ],
   "source": [
    "# sol 3 \n",
    "# first 5 +ve intiger and first 5 even intiger\n",
    "seti=set(range(1,6))\n",
    "sete = set(range(2,11,2))\n",
    "print(sete)\n",
    "print(seti)\n",
    "print(\"Union:\",seti.union(sete))\n",
    "print(\"Intersect\",seti.intersection(sete))\n",
    "print(\"defference:\",seti-sete)\n",
    "print(\"symetric difference:\",seti^sete)"
   ]
  },
  {
   "cell_type": "code",
   "execution_count": 9,
   "id": "80c380c9",
   "metadata": {},
   "outputs": [
    {
     "name": "stdout",
     "output_type": "stream",
     "text": [
      "{64, 1, 4, 36, 100, 9, 16, 49, 81, 25}\n"
     ]
    }
   ],
   "source": [
    "# sol 4\n",
    "# square of the first 10 +ve integer\n",
    "setty = set(i*i for i in range(1,11))\n",
    "print(setty)"
   ]
  },
  {
   "cell_type": "code",
   "execution_count": 14,
   "id": "14b97e6d",
   "metadata": {},
   "outputs": [
    {
     "name": "stdout",
     "output_type": "stream",
     "text": [
      "{2, 4, 6, 8, 10}\n"
     ]
    }
   ],
   "source": [
    "# sol 5\n",
    "ans_set = set(x for x in set1 if(x%2==0))\n",
    "print(ans_set)"
   ]
  },
  {
   "cell_type": "code",
   "execution_count": 15,
   "id": "01af6110",
   "metadata": {},
   "outputs": [
    {
     "name": "stdout",
     "output_type": "stream",
     "text": [
      "{1, 2, 3, 4, 5, 6}\n"
     ]
    }
   ],
   "source": [
    "# sol 6\n",
    "duplicate_set = {1,2,2,3,3,4,4,5,5,6,6,6,6,6}\n",
    "unique_set = set(duplicate_set)\n",
    "print(unique_set)"
   ]
  },
  {
   "cell_type": "code",
   "execution_count": 18,
   "id": "94fc8820",
   "metadata": {},
   "outputs": [
    {
     "name": "stdout",
     "output_type": "stream",
     "text": [
      "False\n",
      "True\n"
     ]
    }
   ],
   "source": [
    "# sol 7\n",
    "set1 = set(x for x in range(1,6))\n",
    "set2 = set(x for x in range(1,3))\n",
    "print(set1.issubset(set2))\n",
    "print(set2.issubset(set1))\n"
   ]
  },
  {
   "cell_type": "code",
   "execution_count": 19,
   "id": "bfa7baf5",
   "metadata": {},
   "outputs": [
    {
     "name": "stdout",
     "output_type": "stream",
     "text": [
      "frozenset({1, 2, 3, 4, 5})\n"
     ]
    }
   ],
   "source": [
    "# sol 8 creating frozen set of first 5 integer\n",
    "ans8 = frozenset(x for x in range(1,6))\n",
    "print(ans8)\n"
   ]
  },
  {
   "cell_type": "code",
   "execution_count": 21,
   "id": "9d8ef040",
   "metadata": {},
   "outputs": [
    {
     "name": "stdout",
     "output_type": "stream",
     "text": [
      "{1, 2, 3, 4, 5}\n",
      "[1, 2, 3, 4, 5, 6]\n",
      "{1, 2, 3, 4, 5, 6}\n"
     ]
    }
   ],
   "source": [
    "# sol 9 \n",
    "set9 = set(x for x in range(1,6))\n",
    "new_list = list(set9)\n",
    "new_list.append(6)\n",
    "new_set = set(new_list)\n",
    "print(set9)\n",
    "print(new_list)\n",
    "print(new_set)\n"
   ]
  },
  {
   "cell_type": "code",
   "execution_count": 26,
   "id": "e1f60c87",
   "metadata": {},
   "outputs": [
    {
     "name": "stdout",
     "output_type": "stream",
     "text": [
      "{frozenset({1, 2}): 3, frozenset({3, 4}): 7, frozenset({5, 6}): 11}\n"
     ]
    }
   ],
   "source": [
    "# sol 10\n",
    "d = {\n",
    "    frozenset({1, 2}): 3,\n",
    "    frozenset({3, 4}): 7,\n",
    "    frozenset({5, 6}): 11\n",
    "}\n",
    "print(d)\n"
   ]
  },
  {
   "cell_type": "code",
   "execution_count": 28,
   "id": "e90cf0c6",
   "metadata": {},
   "outputs": [
    {
     "name": "stdout",
     "output_type": "stream",
     "text": [
      "1\n",
      "2\n",
      "3\n",
      "4\n",
      "5\n",
      "6\n",
      "7\n"
     ]
    }
   ],
   "source": [
    "# sol 11\n",
    "sett = {1,2,3,4,5,6,7}\n",
    "for i in sett:\n",
    "    print(i)"
   ]
  },
  {
   "cell_type": "code",
   "execution_count": 39,
   "id": "f8d80785",
   "metadata": {},
   "outputs": [
    {
     "name": "stdout",
     "output_type": "stream",
     "text": [
      "{1, 2, 3, 4, 5, 6, 7, 8, 9, 10}\n",
      "{2, 3, 4, 5, 6, 7, 8, 9, 10}\n",
      "{3, 4, 5, 6, 7, 8, 9, 10}\n",
      "{4, 5, 6, 7, 8, 9, 10}\n",
      "{5, 6, 7, 8, 9, 10}\n",
      "{6, 7, 8, 9, 10}\n",
      "{7, 8, 9, 10}\n",
      "{8, 9, 10}\n",
      "{9, 10}\n",
      "{10}\n",
      "set()\n"
     ]
    }
   ],
   "source": [
    "# sol 12\n",
    "set12 = set(x for x in range(1,11))\n",
    "n = len(set12)\n",
    "while n>0:\n",
    "\n",
    "    print(set12)\n",
    "    set12.pop()\n",
    "    n-=1\n",
    "print(set12)"
   ]
  },
  {
   "cell_type": "code",
   "execution_count": 40,
   "id": "27f5b4ee",
   "metadata": {},
   "outputs": [
    {
     "name": "stdout",
     "output_type": "stream",
     "text": [
      "{3, 4, 5, 7, 8}\n"
     ]
    }
   ],
   "source": [
    "# sol 13\n",
    "set131= {1,2,3,4,5}\n",
    "set132={1,2,7,8}\n",
    "set131.symmetric_difference_update(set132)\n",
    "print(set131)"
   ]
  },
  {
   "cell_type": "code",
   "execution_count": 42,
   "id": "3af87dd8",
   "metadata": {},
   "outputs": [
    {
     "name": "stdout",
     "output_type": "stream",
     "text": [
      "False\n"
     ]
    }
   ],
   "source": [
    "# sol 14\n",
    "set14 = {1,2,3,4,5,6,9}\n",
    "print(8 in set14)"
   ]
  },
  {
   "cell_type": "code",
   "execution_count": 44,
   "id": "d7824b57",
   "metadata": {},
   "outputs": [
    {
     "name": "stdout",
     "output_type": "stream",
     "text": [
      "{(1, 2), (3, 4), (5, 6)}\n"
     ]
    }
   ],
   "source": [
    "# sol 15\n",
    "set15 = {\n",
    "    (1,2),\n",
    "    (3,4),\n",
    "    (5,6)\n",
    "}\n",
    "print(set15)"
   ]
  }
 ],
 "metadata": {
  "kernelspec": {
   "display_name": "Python 3",
   "language": "python",
   "name": "python3"
  },
  "language_info": {
   "codemirror_mode": {
    "name": "ipython",
    "version": 3
   },
   "file_extension": ".py",
   "mimetype": "text/x-python",
   "name": "python",
   "nbconvert_exporter": "python",
   "pygments_lexer": "ipython3",
   "version": "3.11.9"
  }
 },
 "nbformat": 4,
 "nbformat_minor": 5
}
