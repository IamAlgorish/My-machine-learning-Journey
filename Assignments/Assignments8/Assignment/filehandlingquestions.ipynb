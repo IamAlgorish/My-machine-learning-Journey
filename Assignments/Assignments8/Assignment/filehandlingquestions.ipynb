{
 "cells": [
  {
   "cell_type": "markdown",
   "metadata": {},
   "source": [
    "# Module: File Handling Assignments\n",
    "## Lesson: File Handling and Operations\n",
    "### Assignment 1: Reading a File\n",
    "\n",
    "Write a function that reads the contents of a file named `sample.txt` and prints each line.\n",
    "\n",
    "### Assignment 2: Writing to a File\n",
    "\n",
    "Write a function that writes a list of strings to a file named `output.txt`, with each string on a new line.\n",
    "\n",
    "### Assignment 3: Copying a File\n",
    "\n",
    "Write a function that copies the contents of a file named `source.txt` to a new file named `destination.txt`.\n",
    "\n",
    "### Assignment 4: Appending to a File\n",
    "\n",
    "Write a function that appends a given string to the end of a file named `log.txt`.\n",
    "\n",
    "### Assignment 5: Counting Words in a File\n",
    "\n",
    "Write a function that reads the contents of a file named `document.txt` and returns the number of words in the file.\n",
    "\n",
    "### Assignment 6: Finding and Replacing Text\n",
    "\n",
    "Write a function that finds and replaces all occurrences of a given word in a file named `data.txt` with another word.\n",
    "\n",
    "### Assignment 7: Reading a File in Reverse\n",
    "\n",
    "Write a function that reads the contents of a file named `reverse.txt` and prints each line in reverse order.\n",
    "\n",
    "### Assignment 8: Counting Lines, Words, and Characters\n",
    "\n",
    "Write a function that reads the contents of a file named `stats.txt` and returns the number of lines, words, and characters in the file.\n",
    "\n",
    "### Assignment 9: Merging Multiple Files\n",
    "\n",
    "Write a function that merges the contents of multiple files into a single file named `merged.txt`.\n",
    "\n",
    "### Assignment 10: Splitting a Large File\n",
    "\n",
    "Write a function that splits a large file named `large.txt` into smaller files of 100 lines each.\n",
    "\n",
    "### Assignment 11: Creating a Log File\n",
    "\n",
    "Write a function that creates a log file named `activity.log` and writes log messages with timestamps.\n",
    "\n",
    "### Assignment 12: Binary File Operations\n",
    "\n",
    "Write a function that reads a binary file named `image.bin` and writes its contents to another binary file named `copy_image.bin`.\n",
    "\n",
    "### Assignment 13: CSV File Operations\n",
    "\n",
    "Write a function that reads a CSV file named `data.csv` and prints its contents as a list of dictionaries.\n",
    "\n",
    "### Assignment 14: JSON File Operations\n",
    "\n",
    "Write a function that reads a JSON file named `data.json` and prints its contents as a Python dictionary.\n",
    "\n",
    "### Assignment 15: File Permission Handling\n",
    "\n",
    "Write a function that attempts to read a file named `protected.txt` and handles any permission errors gracefully by printing an error message."
   ]
  },
  {
   "cell_type": "code",
   "execution_count": null,
   "metadata": {},
   "outputs": [
    {
     "name": "stdout",
     "output_type": "stream",
     "text": [
      "Ore wa niwa\n",
      "Rishabh diska\n",
      "yorosuko na.\n"
     ]
    }
   ],
   "source": [
    "#sol - 1\n",
    "def readfile(file_name):\n",
    "    with open(file_name,'r') as file:\n",
    "       content = file.read()\n",
    "       print(content)\n",
    "readfile('sample.txt')"
   ]
  },
  {
   "cell_type": "code",
   "execution_count": 8,
   "id": "3ae09444",
   "metadata": {},
   "outputs": [],
   "source": [
    "#sol - 2\n",
    "def writefile(file_name):\n",
    "    with open(file_name , 'w') as file:\n",
    "        file.write(\"ore wa rishu diska\\n yoro suko na minna \\n daijobu diska\")\n",
    "writefile('output.txt')"
   ]
  },
  {
   "cell_type": "code",
   "execution_count": 20,
   "id": "e00aeb88",
   "metadata": {},
   "outputs": [],
   "source": [
    "#sol - 3\n",
    "def copy(source , destination):\n",
    "    with open(source , 'r') as sorcy :\n",
    "        with open(destination , 'w')  as desti:\n",
    "            desti.write(sorcy.read())\n",
    "copy('source.txt','destination.txt')\n"
   ]
  },
  {
   "cell_type": "code",
   "execution_count": 1,
   "id": "0d8a3468",
   "metadata": {},
   "outputs": [],
   "source": [
    "#sol - 4\n",
    "def apendu(str):\n",
    "    with open('log.txt','a') as file:\n",
    "        file.write(str)\n",
    "apendu(\"kaho na pyar hain\")"
   ]
  },
  {
   "cell_type": "code",
   "execution_count": 7,
   "id": "e2b57689",
   "metadata": {},
   "outputs": [
    {
     "name": "stdout",
     "output_type": "stream",
     "text": [
      "dhundlai dhundlai dhundlai\n",
      "uthe hath pure club me\n",
      "nachte h ham bina leke.\n",
      "13\n"
     ]
    }
   ],
   "source": [
    "#sol - 5\n",
    "def counter(file_name):\n",
    "    counterr = 0\n",
    "    with open (file_name,'r') as file:\n",
    "        content = file.read()\n",
    "        print(content)\n",
    "        for i in content:\n",
    "            if(i==\" \" or i=='.' or i == \"\\n\"):\n",
    "                \n",
    "                counterr+=1\n",
    "\n",
    "    return counterr\n",
    "print(counter('document.txt'))\n"
   ]
  },
  {
   "cell_type": "code",
   "execution_count": 17,
   "id": "b76df110",
   "metadata": {},
   "outputs": [
    {
     "name": "stdout",
     "output_type": "stream",
     "text": [
      "Initial file : lal rajma lal rumaal mein lipat gaya, lal lal rumaal mein lal rajma lipta raha.\n",
      "final file : kala rajma kala rumaal mein lipat gaya, kala kala rumaal mein kala rajma lipta raha.\n"
     ]
    }
   ],
   "source": [
    "#sol - 6\n",
    "def wordreplacer(str1 , str2, file_name):\n",
    "    with open (file_name ,'r') as file:\n",
    "          content = file.read()\n",
    "          print(f\"Initial file : {content}\")\n",
    "          update = content.replace(str1,str2)\n",
    "    with open (file_name,'w') as file:\n",
    "         file.write(update)\n",
    "    with open (file_name,'r') as file:\n",
    "         \n",
    "         print(f\"final file : {file.read()}\")\n",
    "    \n",
    "wordreplacer('lal','kala','data.txt')"
   ]
  },
  {
   "cell_type": "code",
   "execution_count": 21,
   "id": "5efa893e",
   "metadata": {},
   "outputs": [
    {
     "name": "stdout",
     "output_type": "stream",
     "text": [
      "dlrow olleH\n"
     ]
    }
   ],
   "source": [
    "#sol - 7\n",
    "def printer_reverse(file_name):\n",
    "    str = \"\"\n",
    "    with open(file_name , 'r') as file:\n",
    "        content = file.read()\n",
    "    for i in range(len(content)-1,-1,-1):\n",
    "        str +=content[i]\n",
    "    print(str)\n",
    "printer_reverse('reverse.txt')"
   ]
  },
  {
   "cell_type": "code",
   "execution_count": null,
   "id": "c4177d5e",
   "metadata": {},
   "outputs": [],
   "source": [
    "#sol - 8\n",
    "#no. of lines words or characters\n",
    "def counter(file_name):\n",
    "    line = 0\n",
    "    words = 0\n",
    "    charr = 0\n",
    "    with open (file_name,'r') as file:\n",
    "        count = file.read()\n",
    "    for i in count"
   ]
  }
 ],
 "metadata": {
  "kernelspec": {
   "display_name": "Python 3",
   "language": "python",
   "name": "python3"
  },
  "language_info": {
   "codemirror_mode": {
    "name": "ipython",
    "version": 3
   },
   "file_extension": ".py",
   "mimetype": "text/x-python",
   "name": "python",
   "nbconvert_exporter": "python",
   "pygments_lexer": "ipython3",
   "version": "3.11.9"
  }
 },
 "nbformat": 4,
 "nbformat_minor": 5
}
