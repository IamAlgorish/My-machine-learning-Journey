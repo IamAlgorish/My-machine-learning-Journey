{
 "cells": [
  {
   "cell_type": "markdown",
   "metadata": {},
   "source": [
    "# Module 4: Advanced Functions Assignments\n",
    "## Lesson 4.1: Defining Functions\n",
    "### Assignment 1: Fibonacci Sequence with Memoization\n",
    "\n",
    "Define a recursive function to calculate the nth Fibonacci number using memoization. Test the function with different inputs.\n",
    "\n",
    "### Assignment 2: Function with Nested Default Arguments\n",
    "\n",
    "Define a function that takes two arguments, a and b, where b is a dictionary with a default value of an empty dictionary. The function should add a new key-value pair to the dictionary and return it. Test the function with different inputs.\n",
    "\n",
    "\n",
    "### Assignment 3: Function with Variable Keyword Arguments\n",
    "\n",
    "Define a function that takes a variable number of keyword arguments and returns a dictionary containing only those key-value pairs where the value is an integer. Test the function with different inputs.\n",
    "\n",
    "### Assignment 4: Function with Callback\n",
    "\n",
    "Define a function that takes another function as a callback and a list of integers. The function should apply the callback to each integer in the list and return a new list with the results. Test with different callback functions.\n",
    "\n",
    "### Assignment 5: Function that Returns a Function\n",
    "\n",
    "Define a function that returns another function. The returned function should take an integer and return its square. Test the returned function with different inputs.\n",
    "\n",
    "### Assignment 6: Function with Decorators\n",
    "\n",
    "Define a function that calculates the time taken to execute another function. Apply this decorator to a function that performs a complex calculation. Test the decorated function with different inputs.\n",
    "\n",
    "### Assignment 7: Higher-Order Function for Filtering and Mapping\n",
    "\n",
    "Define a higher-order function that takes two functions, a filter function and a map function, along with a list of integers. The higher-order function should first filter the integers using the filter function and then apply the map function to the filtered integers. Test with different filter and map functions.\n",
    "\n",
    "### Assignment 8: Function Composition\n",
    "\n",
    "Define a function that composes two functions, f and g, such that the result is f(g(x)). Test with different functions f and g.\n",
    "\n",
    "### Assignment 9: Partial Function Application\n",
    "\n",
    "Use the functools.partial function to create a new function that multiplies its input by 2. Test the new function with different inputs.\n",
    "\n",
    "### Assignment 10: Function with Error Handling\n",
    "\n",
    "Define a function that takes a list of integers and returns their average. The function should handle any errors that occur (e.g., empty list) and return None in such cases. Test with different inputs.\n",
    "\n",
    "### Assignment 11: Function with Generators\n",
    "\n",
    "Define a function that generates an infinite sequence of Fibonacci numbers. Test by printing the first 10 numbers in the sequence.\n",
    "\n",
    "### Assignment 12: Currying\n",
    "\n",
    "Define a curried function that takes three arguments, one at a time, and returns their product. Test the function by providing arguments one at a time.\n",
    "\n",
    "### Assignment 13: Function with Context Manager\n",
    "\n",
    "Define a function that uses a context manager to write a list of integers to a file. The function should handle any errors that occur during file operations. Test with different lists.\n",
    "\n",
    "### Assignment 14: Function with Multiple Return Types\n",
    "\n",
    "Define a function that takes a list of mixed data types (integers, strings, and floats) and returns three lists: one containing all the integers, one containing all the strings, and one containing all the floats. Test with different inputs.\n",
    "\n",
    "### Assignment 15: Function with State\n",
    "\n",
    "Define a function that maintains state between calls using a mutable default argument. The function should keep track of how many times it has been called. Test by calling the function multiple times."
   ]
  },
  {
   "cell_type": "code",
   "execution_count": 2,
   "metadata": {},
   "outputs": [
    {
     "name": "stdout",
     "output_type": "stream",
     "text": [
      "8\n"
     ]
    }
   ],
   "source": [
    "# Sol - 1\n",
    "def fib(num , memo={}):\n",
    "    if num in memo:\n",
    "        return memo[num]\n",
    "    if(num<=1):\n",
    "        return num\n",
    "    memo[num] = fib(num - 1) + fib(num - 2)\n",
    "    return memo[num]\n",
    "\n",
    "print(fib(6))"
   ]
  },
  {
   "cell_type": "code",
   "execution_count": 3,
   "id": "67dd02b8",
   "metadata": {},
   "outputs": [
    {
     "name": "stdout",
     "output_type": "stream",
     "text": [
      "{1: 1}\n",
      "{1: 1, 2: 4}\n"
     ]
    }
   ],
   "source": [
    "# Sol - 2\n",
    "def func(a , b={}):\n",
    "    b[a] = a**2 \n",
    "    return b\n",
    "\n",
    "print(func(1))\n",
    "print(func(2,{1:1}))\n",
    "\n"
   ]
  },
  {
   "cell_type": "code",
   "execution_count": 4,
   "id": "57e4f300",
   "metadata": {},
   "outputs": [
    {
     "name": "stdout",
     "output_type": "stream",
     "text": [
      "{'a': 2, 'b': 4, 'c': 6}\n"
     ]
    }
   ],
   "source": [
    "# sol - 3\n",
    "#Define a function that takes a variable number of keyword arguments\n",
    "#and returns a dictionary containing only those key-value pairs where the value is an integer. Test the function with different inputs.\n",
    "def numb(**kwargs):\n",
    " \n",
    "    return  {u:v for u,v in kwargs.items() if isinstance(v,int)}\n",
    "print(numb(a=2,b=4,c=6,d=\"Rishu\",e=\"david\"))\n",
    "\n"
   ]
  },
  {
   "cell_type": "code",
   "execution_count": 5,
   "id": "7be12d5f",
   "metadata": {},
   "outputs": [
    {
     "name": "stdout",
     "output_type": "stream",
     "text": [
      "[1, 4, 9, 16, 25, 36]\n",
      "[25, 16, 36, 64, 16, 4]\n"
     ]
    }
   ],
   "source": [
    "#sol - 4\n",
    "# Define a function that takes another function as a callback and a list of integers. \n",
    "# The function should apply the callback to each integer in the list and return a new list with the results. \n",
    "# Test with different callback functions.\n",
    "def fun2(fun3 ,lst):\n",
    "    return [fun3(x) for x in lst]\n",
    "print(fun2(lambda x: x**2, [1,2,3,4,5,6]))\n",
    "print(fun2(lambda x: x**2, [5,4,6,8,4,2]))"
   ]
  },
  {
   "cell_type": "code",
   "execution_count": 6,
   "id": "5b210c3b",
   "metadata": {},
   "outputs": [
    {
     "name": "stdout",
     "output_type": "stream",
     "text": [
      "25\n",
      "36\n"
     ]
    }
   ],
   "source": [
    "#Sol - 5\n",
    "def square(num):\n",
    "    return num**2\n",
    "\n",
    "def first_fun(n):\n",
    "    return square(n)\n",
    "print(first_fun(5))\n",
    "print(first_fun(6))"
   ]
  },
  {
   "cell_type": "code",
   "execution_count": 7,
   "id": "0642675e",
   "metadata": {},
   "outputs": [
    {
     "name": "stdout",
     "output_type": "stream",
     "text": [
      "Total time taken funtime 0.0001780986785888672\n"
     ]
    }
   ],
   "source": [
    "#sol - 6\n",
    "# When you decorate a function with @timer_decorator, Python automatically applies the\n",
    "# timer_decorator function to complex_calculation. This means the original complex_calculation\n",
    "# function is wrapped inside the wrapper function created by timer_decorator.\n",
    "import time\n",
    "def time_decorator(fun):\n",
    "    def innertime(*args , **kwargs):\n",
    "        start = time.time()\n",
    "        fun(*args,**kwargs)\n",
    "        end = time.time()\n",
    "        print(\"Total time taken\",fun.__name__,end-start)\n",
    "    return innertime\n",
    "@time_decorator\n",
    "def funtime(num):\n",
    "    return sum(x**2 for x in range(num))\n",
    "funtime(10000)\n",
    "    \n",
    "\n",
    "    \n",
    "    \n",
    "\n"
   ]
  },
  {
   "cell_type": "code",
   "execution_count": 1,
   "id": "28635a62",
   "metadata": {},
   "outputs": [
    {
     "name": "stdout",
     "output_type": "stream",
     "text": [
      "[4, 16]\n"
     ]
    }
   ],
   "source": [
    "#sol - 7\n",
    "def higher_order(filterr , mapy , lst):\n",
    "    num = list(filter(filterr,lst))\n",
    "    ans = list(map(mapy,num))\n",
    "    return ans\n",
    "print(higher_order(lambda x : x%2==0 , lambda x:x**2 , [1, 2, 3, 4, 5]))\n"
   ]
  },
  {
   "cell_type": "code",
   "execution_count": 6,
   "id": "988e6c77",
   "metadata": {},
   "outputs": [
    {
     "name": "stdout",
     "output_type": "stream",
     "text": [
      "7\n"
     ]
    }
   ],
   "source": [
    "#sol - 8\n",
    "def g(x):\n",
    "    return x*2\n",
    "def f(x):\n",
    "    return x+1\n",
    "def h(x):\n",
    "    return f(g(x))\n",
    "print(h(3))"
   ]
  },
  {
   "cell_type": "code",
   "execution_count": 8,
   "id": "24b51ecc",
   "metadata": {},
   "outputs": [
    {
     "name": "stdout",
     "output_type": "stream",
     "text": [
      "10\n"
     ]
    }
   ],
   "source": [
    "#sol - 9\n",
    "from functools import partial\n",
    "num1 = lambda x,y:x*y\n",
    "multiplyby_2 = partial(num1,2)\n",
    "print(multiplyby_2(5))\n",
    "\n"
   ]
  },
  {
   "cell_type": "code",
   "execution_count": 18,
   "id": "e825b93a",
   "metadata": {},
   "outputs": [
    {
     "name": "stdout",
     "output_type": "stream",
     "text": [
      "3.5\n",
      "None\n"
     ]
    }
   ],
   "source": [
    "#sol - 10\n",
    "def avg(lst):\n",
    "    track = 0\n",
    "    sum = 0\n",
    "    if(len(lst)==0):\n",
    "        return None\n",
    "    for i in lst:\n",
    "        sum+=i\n",
    "        track+=1\n",
    "    return sum/track\n",
    "print(avg([1,2,3,4,5,6]))\n",
    "print(avg([]))\n",
    "\n"
   ]
  },
  {
   "cell_type": "code",
   "execution_count": null,
   "id": "7ae51a63",
   "metadata": {},
   "outputs": [],
   "source": [
    "#sol - 11\n",
    "def fibz():\n",
    "    first = 0;\n",
    "    second = 1;\n",
    "    while(True):\n",
    "     \n",
    "     ans = first + second\n",
    "     first = second\n",
    "     second = ans\n",
    "     print(ans)\n",
    "          \n",
    "fib = fibz()\n",
    "for _ in range(11):\n",
    "   print(next(fib))\n",
    "  "
   ]
  },
  {
   "cell_type": "code",
   "execution_count": 1,
   "id": "15463a5d",
   "metadata": {},
   "outputs": [
    {
     "name": "stdout",
     "output_type": "stream",
     "text": [
      "107226\n"
     ]
    }
   ],
   "source": [
    "#sol 12\n",
    "def curd(x):\n",
    "    def first(y):\n",
    "        def second(z):\n",
    "            return x*y*z \n",
    "        return second\n",
    "    return first\n",
    "print(curd(23)(222)(21))"
   ]
  },
  {
   "cell_type": "code",
   "execution_count": 3,
   "id": "57816c59",
   "metadata": {},
   "outputs": [],
   "source": [
    "#SOL 13\n",
    "def list_to_file(num,file):\n",
    "    with open(file , 'w') as f:\n",
    "        for nume in num:\n",
    "            f.write(str(nume))\n",
    "\n",
    "list_to_file([1,2,3,4,4],'output.txt')\n"
   ]
  },
  {
   "cell_type": "code",
   "execution_count": 11,
   "id": "e090d204",
   "metadata": {},
   "outputs": [
    {
     "name": "stdout",
     "output_type": "stream",
     "text": [
      "([1, 2, 3, 4], [4.5, 4.8, 6.8], ['a', 'b'])\n"
     ]
    }
   ],
   "source": [
    "#Sol 14\n",
    "def mixed_seperator(lst):\n",
    "    int_lst = [x for x in lst if isinstance(x , int)]\n",
    "    y = [x for x in lst if isinstance(x , float)]\n",
    "    z = [x for x in lst if isinstance(x, str)]\n",
    "    return int_lst , y,z\n",
    "print(mixed_seperator([1,2,3,4,'a','b',4.5,4.8,6.8]))\n",
    "                    \n"
   ]
  },
  {
   "cell_type": "code",
   "execution_count": 16,
   "id": "cae3a081",
   "metadata": {},
   "outputs": [
    {
     "name": "stdout",
     "output_type": "stream",
     "text": [
      "[1]\n",
      "[2]\n",
      "[3]\n",
      "[4]\n",
      "[5]\n"
     ]
    }
   ],
   "source": [
    "#sol - 15\n",
    "\n",
    "def call_counter(count = [0]):\n",
    "    count[0]+=1\n",
    "    return count\n",
    "print(call_counter())\n",
    "print(call_counter())\n",
    "print(call_counter())\n",
    "print(call_counter())\n",
    "print(call_counter())"
   ]
  }
 ],
 "metadata": {
  "kernelspec": {
   "display_name": "Python 3",
   "language": "python",
   "name": "python3"
  },
  "language_info": {
   "codemirror_mode": {
    "name": "ipython",
    "version": 3
   },
   "file_extension": ".py",
   "mimetype": "text/x-python",
   "name": "python",
   "nbconvert_exporter": "python",
   "pygments_lexer": "ipython3",
   "version": "3.11.9"
  }
 },
 "nbformat": 4,
 "nbformat_minor": 5
}
