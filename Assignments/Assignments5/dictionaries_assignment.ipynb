{
 "cells": [
  {
   "cell_type": "markdown",
   "metadata": {},
   "source": [
    "# Module 3: Data Structures Assignments\n",
    "## Lesson 3.4: Dictionaries\n",
    "### Assignment 1: Creating and Accessing Dictionaries\n",
    "\n",
    "Create a dictionary with the first 10 positive integers as keys and their squares as values. Print the dictionary.\n",
    "\n",
    "### Assignment 2: Accessing Dictionary Elements\n",
    "\n",
    "Print the value of the key 5 and the keys of the dictionary created in Assignment 1.\n",
    "\n",
    "### Assignment 3: Dictionary Methods\n",
    "\n",
    "Add a new key-value pair (11, 121) to the dictionary created in Assignment 1 and then remove the key-value pair with key 1. Print the modified dictionary.\n",
    "\n",
    "### Assignment 4: Iterating Over Dictionaries\n",
    "\n",
    "Iterate over the dictionary created in Assignment 1 and print each key-value pair.\n",
    "\n",
    "### Assignment 5: Dictionary Comprehensions\n",
    "\n",
    "Create a new dictionary containing the cubes of the first 10 positive integers using a dictionary comprehension. Print the new dictionary.\n",
    "\n",
    "### Assignment 6: Merging Dictionaries\n",
    "\n",
    "Create two dictionaries: one with keys as the first 5 positive integers and values as their squares, and another with keys as the next 5 positive integers and values as their squares. Merge these dictionaries into a single dictionary and print it.\n",
    "\n",
    "### Assignment 7: Nested Dictionaries\n",
    "\n",
    "Create a nested dictionary representing a student with keys 'name', 'age', 'grades', where 'grades' is another dictionary with keys 'math', 'science', and 'english'. Print the nested dictionary.\n",
    "\n",
    "### Assignment 8: Dictionary of Lists\n",
    "\n",
    "Create a dictionary where the keys are the first 5 positive integers and the values are lists containing the first 5 multiples of the key. Print the dictionary.\n",
    "\n",
    "### Assignment 9: Dictionary of Tuples\n",
    "\n",
    "Create a dictionary where the keys are the first 5 positive integers and the values are tuples containing the key and its square. Print the dictionary.\n",
    "\n",
    "### Assignment 10: Dictionary and List Conversion\n",
    "\n",
    "Create a dictionary with the first 5 positive integers as keys and their squares as values. Convert the dictionary to a list of tuples and print it.\n",
    "\n",
    "### Assignment 11: Dictionary Filtering\n",
    "\n",
    "Create a dictionary with the first 10 positive integers as keys and their squares as values. Create a new dictionary containing only the key-value pairs where the key is even. Print the new dictionary.\n",
    "\n",
    "### Assignment 12: Dictionary Key and Value Transformation\n",
    "\n",
    "Create a dictionary with the first 5 positive integers as keys and their squares as values. Create a new dictionary with keys and values swapped. Print the new dictionary.\n",
    "\n",
    "### Assignment 13: Default Dictionary\n",
    "\n",
    "Create a default dictionary where each key has a default value of an empty list. Add some elements to the lists and print the dictionary.\n",
    "\n",
    "### Assignment 14: Counting with Dictionaries\n",
    "\n",
    "Write a function that takes a string and returns a dictionary with the count of each character in the string. Print the dictionary.\n",
    "\n",
    "### Assignment 15: Dictionary and JSON\n",
    "\n",
    "Create a dictionary representing a book with keys 'title', 'author', 'year', and 'genre'. Convert the dictionary to a JSON string and print it."
   ]
  },
  {
   "cell_type": "code",
   "execution_count": 3,
   "metadata": {},
   "outputs": [
    {
     "name": "stdout",
     "output_type": "stream",
     "text": [
      "{1: 1, 2: 4, 3: 9, 4: 16, 5: 25, 6: 36, 7: 49, 8: 64, 9: 81, 10: 100}\n"
     ]
    }
   ],
   "source": [
    "# sol-1(creating and dictionary)\n",
    "dictionarry = {x:x*x for x in range(1,11)}\n",
    "print(dictionarry)\n"
   ]
  },
  {
   "cell_type": "code",
   "execution_count": 4,
   "id": "9d474135",
   "metadata": {},
   "outputs": [
    {
     "name": "stdout",
     "output_type": "stream",
     "text": [
      "25\n",
      "dict_keys([1, 2, 3, 4, 5, 6, 7, 8, 9, 10])\n"
     ]
    }
   ],
   "source": [
    "# sol - 2\n",
    "print(dictionarry[5])\n",
    "print(dictionarry.keys())"
   ]
  },
  {
   "cell_type": "code",
   "execution_count": 5,
   "id": "710a76b5",
   "metadata": {},
   "outputs": [
    {
     "name": "stdout",
     "output_type": "stream",
     "text": [
      "{2: 4, 3: 9, 4: 16, 5: 25, 6: 36, 7: 49, 8: 64, 9: 81, 10: 100, 11: 121}\n"
     ]
    }
   ],
   "source": [
    "# sol - 3\n",
    "dictionarry[11] = 121\n",
    "\n",
    "dictionarry.pop(1)\n",
    "print(dictionarry)\n",
    "\n"
   ]
  },
  {
   "cell_type": "code",
   "execution_count": 6,
   "id": "b7264c53",
   "metadata": {},
   "outputs": [
    {
     "name": "stdout",
     "output_type": "stream",
     "text": [
      "2: 4\n",
      "3: 9\n",
      "4: 16\n",
      "5: 25\n",
      "6: 36\n",
      "7: 49\n",
      "8: 64\n",
      "9: 81\n",
      "10: 100\n",
      "11: 121\n"
     ]
    }
   ],
   "source": [
    "# sol - 4\n",
    "# Iterate over the dictionary created in Assignment 1 and print each key-value pair.\n",
    "for x ,y in dictionarry.items():\n",
    "    print(f\"{x}: {y}\")\n"
   ]
  },
  {
   "cell_type": "code",
   "execution_count": 7,
   "id": "b5c1a155",
   "metadata": {},
   "outputs": [
    {
     "name": "stdout",
     "output_type": "stream",
     "text": [
      "{1: 1, 2: 8, 3: 27, 4: 64, 5: 125, 6: 216, 7: 343, 8: 512, 9: 729, 10: 1000}\n"
     ]
    }
   ],
   "source": [
    "# sol - 5\n",
    "new_dict = {x:x**3 for x in range(1,11)}\n",
    "print(new_dict) "
   ]
  },
  {
   "cell_type": "code",
   "execution_count": 8,
   "id": "5b0c6854",
   "metadata": {},
   "outputs": [
    {
     "name": "stdout",
     "output_type": "stream",
     "text": [
      "{1: 1, 2: 4, 3: 9, 4: 16, 5: 25, 6: 36, 7: 49, 8: 64, 9: 81, 10: 100}\n"
     ]
    }
   ],
   "source": [
    "# sol - 6\n",
    "Dict1 = {x:x**2 for x in range(1,6)}\n",
    "Dict2 = {x:x**2 for x in range(6,11)}\n",
    "Dict1.update(Dict2)\n",
    "print(Dict1)\n"
   ]
  },
  {
   "cell_type": "code",
   "execution_count": 9,
   "id": "f4975e54",
   "metadata": {},
   "outputs": [
    {
     "name": "stdout",
     "output_type": "stream",
     "text": [
      "{'name': 'Shenoy', 'age': 38, 'grades': {'math': 72, 'science': 82, 'english': 89}}\n"
     ]
    }
   ],
   "source": [
    "# sol - 7\n",
    "# 'name', 'age', 'grades', where 'grades' is another dictionary with keys 'math', 'science', and 'english'. Print the nested dictionary.\n",
    "\n",
    "Student = {\n",
    "    'name': 'Shenoy','age': 38,\n",
    "    'grades':\n",
    "    {'math':72,'science':82,'english':89}\n",
    "}\n",
    "print(Student)"
   ]
  },
  {
   "cell_type": "code",
   "execution_count": 10,
   "id": "4752c5cd",
   "metadata": {},
   "outputs": [
    {
     "name": "stdout",
     "output_type": "stream",
     "text": [
      "{1: [1, 2, 3, 4, 5], 2: [2, 4, 6, 8, 10], 3: [3, 6, 9, 12, 15], 4: [4, 8, 12, 16, 20], 5: [5, 10, 15, 20, 25]}\n"
     ]
    }
   ],
   "source": [
    "# sol - 8\n",
    "# the keys are the first 5 positive integers and the values are lists containing the first 5 multiples of the key. Print the dictionary.\n",
    "Anonymus = {\n",
    "    x:[x*y for y in range(1,6)] for x in range(1,6)\n",
    "}\n",
    "print(Anonymus)\n"
   ]
  },
  {
   "cell_type": "code",
   "execution_count": 11,
   "id": "d1d0e77b",
   "metadata": {},
   "outputs": [
    {
     "name": "stdout",
     "output_type": "stream",
     "text": [
      "{1: (1, 1), 2: (2, 4), 3: (3, 9), 4: (4, 16), 5: (5, 25)}\n"
     ]
    }
   ],
   "source": [
    "# sol - 9\n",
    "# Create a dictionary where the keys are the first 5 positive integers and the values are tuples containing the key and its square. Print the dictionary.\n",
    "dict_9 = {\n",
    "    x:(x,x*x) for x in range(1,6)\n",
    "}\n",
    "print(dict_9)\n"
   ]
  },
  {
   "cell_type": "code",
   "execution_count": 12,
   "id": "aa2eeff1",
   "metadata": {},
   "outputs": [
    {
     "name": "stdout",
     "output_type": "stream",
     "text": [
      "{1: 1, 2: 4, 3: 9, 4: 16, 5: 25}\n",
      "[(1, 1), (2, 4), (3, 9), (4, 16), (5, 25)]\n"
     ]
    }
   ],
   "source": [
    "# sol - 10\n",
    "# dictionary with the first 5 positive integers as keys and their squares as values. Convert the dictionary to a list of tuples and print it.\n",
    "dict_10 = {x:x**2 for x in range(1,6)}\n",
    "print(dict_10)\n",
    "\n",
    "new_tuple = list(dict_10.items())\n",
    "print(new_tuple)"
   ]
  },
  {
   "cell_type": "code",
   "execution_count": 13,
   "id": "06cdcbf8",
   "metadata": {},
   "outputs": [
    {
     "name": "stdout",
     "output_type": "stream",
     "text": [
      "{1: 1, 2: 4, 3: 9, 4: 16, 5: 25, 6: 36, 7: 49, 8: 64, 9: 81, 10: 100}\n",
      "{2: 4, 4: 16, 6: 36, 8: 64, 10: 100}\n"
     ]
    }
   ],
   "source": [
    "# sol - 11\n",
    "# Create a dictionary with the first 10 positive integers as keys and their squares as values. Create a new dictionary containing only the key-value pairs where the key is even. Print the new dictionary.\n",
    "dect_11 = {x:x**2 for x in range(1,11)}\n",
    "print(dect_11)\n",
    "dect_12 = {u: v for u , v in dect_11.items() if u % 2 ==  0 }\n",
    "print(dect_12)\n",
    "\n"
   ]
  },
  {
   "cell_type": "code",
   "execution_count": 14,
   "id": "dba7cd1b",
   "metadata": {},
   "outputs": [
    {
     "name": "stdout",
     "output_type": "stream",
     "text": [
      "{1: 1, 2: 4, 3: 9, 4: 16, 5: 25}\n",
      "{1: 1, 4: 2, 9: 3, 16: 4, 25: 5}\n"
     ]
    }
   ],
   "source": [
    "# sol - 12\n",
    "dict_120 = {x:x**2 for x in range(1,6)}\n",
    "print(dict_120)\n",
    "new_dict_120 = { u:v for v , u in  dict_120.items()}\n",
    "print(new_dict_120)\n"
   ]
  },
  {
   "cell_type": "code",
   "execution_count": 15,
   "id": "7b6d6ade",
   "metadata": {},
   "outputs": [
    {
     "name": "stdout",
     "output_type": "stream",
     "text": [
      "defaultdict(<class 'list'>, {1: 'a', 2: 'b'})\n"
     ]
    }
   ],
   "source": [
    "# sol - 13\n",
    "from collections import defaultdict\n",
    "default_dict = defaultdict(list)\n",
    "default_dict[1] = 'a'\n",
    "default_dict[2] = 'b'\n",
    "\n",
    "print(default_dict)"
   ]
  },
  {
   "cell_type": "code",
   "execution_count": 16,
   "id": "5930a1eb",
   "metadata": {},
   "outputs": [
    {
     "name": "stdout",
     "output_type": "stream",
     "text": [
      "{'H': 1, 'e': 1, 'l': 3, 'o': 2, ' ': 1, 'W': 1, 'r': 1, 'd': 1}\n"
     ]
    }
   ],
   "source": [
    "# sol - 14\n",
    "def counter(str):\n",
    "    dict = {}\n",
    "    for i in str:\n",
    "        dict[i] = dict.get(i , 0 ) + 1\n",
    "    return dict\n",
    "str = \"Hello World\"\n",
    "print(counter(str))"
   ]
  },
  {
   "cell_type": "code",
   "execution_count": 18,
   "id": "007d941f",
   "metadata": {},
   "outputs": [
    {
     "name": "stdout",
     "output_type": "stream",
     "text": [
      "{'title': 'Dragon Ball Super', 'author': 'Akira Toriyama', 'year': '2015', 'genre': 'Fighting'}\n"
     ]
    }
   ],
   "source": [
    "# sol - 15\n",
    "# 'title', 'author', 'year', and 'genre'.\n",
    "import json\n",
    "book = {\n",
    "    'title':'Dragon Ball Super',\n",
    "    'author':'Akira Toriyama' ,\n",
    "    'year':'2015' ,\n",
    "    'genre':'Fighting'    \n",
    "}\n",
    "\n",
    "print(book)\n",
    "\n"
   ]
  }
 ],
 "metadata": {
  "kernelspec": {
   "display_name": "Python 3",
   "language": "python",
   "name": "python3"
  },
  "language_info": {
   "codemirror_mode": {
    "name": "ipython",
    "version": 3
   },
   "file_extension": ".py",
   "mimetype": "text/x-python",
   "name": "python",
   "nbconvert_exporter": "python",
   "pygments_lexer": "ipython3",
   "version": "3.11.9"
  }
 },
 "nbformat": 4,
 "nbformat_minor": 5
}
