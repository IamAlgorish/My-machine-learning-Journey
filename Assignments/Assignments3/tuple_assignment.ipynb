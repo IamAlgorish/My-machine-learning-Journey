{
 "cells": [
  {
   "cell_type": "markdown",
   "id": "6cade624",
   "metadata": {},
   "source": [
    "# Module 3: Data Structures Assignments\n",
    "## Lesson 3.2: Tuples\n",
    "### Assignment 1: Creating and Accessing Tuples\n",
    "\n",
    "Create a tuple with the first 10 positive integers. Print the tuple.\n",
    "\n",
    "### Assignment 2: Accessing Tuple Elements\n",
    "\n",
    "Print the first, middle, and last elements of the tuple created in Assignment 1.\n",
    "\n",
    "### Assignment 3: Tuple Slicing\n",
    "\n",
    "Print the first three elements, the last three elements, and the elements from index 2 to 5 of the tuple created in Assignment 1.\n",
    "\n",
    "### Assignment 4: Nested Tuples\n",
    "\n",
    "Create a nested tuple representing a 3x3 matrix and print the matrix. Access and print the element at the second row and third column.\n",
    "\n",
    "### Assignment 5: Tuple Concatenation\n",
    "\n",
    "Concatenate two tuples: (1, 2, 3) and (4, 5, 6). Print the resulting tuple.\n",
    "\n",
    "### Assignment 6: Tuple Methods\n",
    "\n",
    "Create a tuple with duplicate elements and count the occurrences of an element. Find the index of the first occurrence of an element in the tuple.\n",
    "\n",
    "### Assignment 7: Unpacking Tuples\n",
    "\n",
    "Create a tuple with 5 elements and unpack it into 5 variables. Print the variables.\n",
    "\n",
    "### Assignment 8: Tuple Conversion\n",
    "\n",
    "Convert a list of the first 5 positive integers to a tuple. Print the tuple.\n",
    "\n",
    "### Assignment 9: Tuple of Tuples\n",
    "\n",
    "Create a tuple containing 3 tuples, each with 3 elements. Print the tuple of tuples.\n",
    "\n",
    "### Assignment 10: Tuple and List\n",
    "\n",
    "Create a tuple with the first 5 positive integers. Convert it to a list, append the number 6, and convert it back to a tuple. Print the resulting tuple.\n",
    "\n",
    "### Assignment 11: Tuple and String\n",
    "\n",
    "Create a tuple with the characters of a string. Join the tuple elements into a single string. Print the string.\n",
    "\n",
    "### Assignment 12: Tuple and Dictionary\n",
    "\n",
    "Create a dictionary with tuple keys and integer values. Print the dictionary.\n",
    "\n",
    "### Assignment 13: Nested Tuple Iteration\n",
    "\n",
    "Create a nested tuple and iterate over the elements, printing each element.\n",
    "\n",
    "### Assignment 14: Tuple and Set\n",
    "\n",
    "Create a tuple with duplicate elements. Convert it to a set to remove duplicates and print the resulting set.\n",
    "\n",
    "### Assignment 15: Tuple Functions\n",
    "\n",
    "Write functions that take a tuple and return the minimum, maximum, and sum of the elements. Print the results for a sample tuple."
   ]
  },
  {
   "cell_type": "code",
   "execution_count": 4,
   "metadata": {},
   "outputs": [
    {
     "name": "stdout",
     "output_type": "stream",
     "text": [
      "(0, 1, 2, 3, 4, 5, 6, 7, 8, 9)\n"
     ]
    }
   ],
   "source": [
    "# sol - 1\n",
    "touples = tuple(i for i in range (10))\n",
    "print(touples)"
   ]
  },
  {
   "cell_type": "code",
   "execution_count": 5,
   "id": "93864cc8",
   "metadata": {},
   "outputs": [
    {
     "name": "stdout",
     "output_type": "stream",
     "text": [
      "0\n",
      "[1, 2, 3, 4, 5, 6, 7, 8]\n",
      "9\n"
     ]
    }
   ],
   "source": [
    "# sol - 2\n",
    "first,*middle,last=touples\n",
    "print(first)\n",
    "print(middle)\n",
    "print(last)\n"
   ]
  },
  {
   "cell_type": "code",
   "execution_count": 13,
   "id": "7f808eb2",
   "metadata": {},
   "outputs": [
    {
     "name": "stdout",
     "output_type": "stream",
     "text": [
      "(0, 1, 2)\n",
      "(7, 8, 9)\n",
      "(2, 3, 4, 5)\n"
     ]
    }
   ],
   "source": [
    "# sol - 3 \n",
    "print(touples[:3])\n",
    "print(touples[-3:])\n",
    "print(touples[2:6])"
   ]
  },
  {
   "cell_type": "code",
   "execution_count": 18,
   "id": "a831a3b6",
   "metadata": {},
   "outputs": [
    {
     "name": "stdout",
     "output_type": "stream",
     "text": [
      "(1, 2, 3)\n",
      "(4, 5, 6)\n",
      "(7, 8, 9)\n",
      "element of 2nd row and 3rd colomn: 6\n"
     ]
    }
   ],
   "source": [
    "# sol - 4 3x3 mattris\n",
    "matrix = (\n",
    "    (1,2,3),\n",
    "    (4,5,6),\n",
    "    (7,8,9)\n",
    ")\n",
    "for row in matrix:\n",
    "    print(row)\n",
    "print(\"element of 2nd row and 3rd colomn:\",matrix[1][2])\n"
   ]
  },
  {
   "cell_type": "code",
   "execution_count": 19,
   "id": "aab49091",
   "metadata": {},
   "outputs": [
    {
     "name": "stdout",
     "output_type": "stream",
     "text": [
      "(1, 2, 3, 4, 5, 6)\n"
     ]
    }
   ],
   "source": [
    "# sol - 5\n",
    "top1 = (1,2,3)\n",
    "top2 = (4,5,6)\n",
    "anstop = top1 + top2\n",
    "print(anstop)"
   ]
  },
  {
   "cell_type": "code",
   "execution_count": 21,
   "id": "60c0deed",
   "metadata": {},
   "outputs": [
    {
     "name": "stdout",
     "output_type": "stream",
     "text": [
      "5\n",
      "1\n"
     ]
    }
   ],
   "source": [
    "# sol - 6\n",
    "touple = (1,2,2,2,3,3,3,3,3,4,5)\n",
    "print(touple.count(3))\n",
    "print(touple.index(2))"
   ]
  },
  {
   "cell_type": "code",
   "execution_count": 23,
   "id": "35430934",
   "metadata": {},
   "outputs": [
    {
     "name": "stdout",
     "output_type": "stream",
     "text": [
      "1 2 3 4 5\n",
      "2\n",
      "3\n",
      "4\n",
      "5\n"
     ]
    }
   ],
   "source": [
    "# sol - 7 {unpacking}\n",
    "top = (1,2,3,4,5)\n",
    "var1,var2,var3,var4,var5= top\n",
    "print(var1,var2,var3,var4,var5)\n",
    "# print(var2)\n",
    "# print(var3)\n",
    "# print(var4)\n",
    "# print(var5)"
   ]
  },
  {
   "cell_type": "code",
   "execution_count": 24,
   "id": "a2123ac9",
   "metadata": {},
   "outputs": [
    {
     "name": "stdout",
     "output_type": "stream",
     "text": [
      "(0, 1, 2, 3, 4)\n"
     ]
    }
   ],
   "source": [
    "# sol - 8\n",
    "list =[i for i in range(5)]\n",
    "list_tuple = tuple(list)\n",
    "print(list_tuple)"
   ]
  },
  {
   "cell_type": "code",
   "execution_count": null,
   "id": "b83727cb",
   "metadata": {},
   "outputs": [],
   "source": [
    "# sol - 9 tuple of tuples\n",
    "tuple1 = (1,2,3)\n",
    "tuple2 = (4,5,6)\n",
    "tuple3 = (7,8,9)\n"
   ]
  },
  {
   "cell_type": "code",
   "execution_count": 1,
   "id": "12f6b96f",
   "metadata": {},
   "outputs": [
    {
     "name": "stdout",
     "output_type": "stream",
     "text": [
      "(0, 1, 2, 3, 4, 6)\n"
     ]
    }
   ],
   "source": [
    "# sol - 10\n",
    "tupli = tuple(i for i in range(5))\n",
    "lst = list(tupli)\n",
    "lst.append(6)\n",
    "tupli = tuple(lst)\n",
    "print(tupli)\n",
    "\n"
   ]
  },
  {
   "cell_type": "code",
   "execution_count": 5,
   "id": "93248adb",
   "metadata": {},
   "outputs": [
    {
     "name": "stdout",
     "output_type": "stream",
     "text": [
      "('h', 'e', 'l', 'l', 'o', ' ', 'b', 'a', 'b', 'y')\n",
      "hello baby\n"
     ]
    }
   ],
   "source": [
    "# sol - 11( tuple and strings)\n",
    "str = \"hello baby\"\n",
    "tuplibabu = tuple(str)\n",
    "print(tuplibabu)\n",
    "new_str = \"\".join(tuplibabu)\n",
    "print(new_str)\n"
   ]
  },
  {
   "cell_type": "code",
   "execution_count": 10,
   "id": "00a8ac1f",
   "metadata": {},
   "outputs": [
    {
     "name": "stdout",
     "output_type": "stream",
     "text": [
      "{(1, 2): 3, (4, 5): 9, (6, 9): 15}\n",
      "3\n"
     ]
    }
   ],
   "source": [
    "# sol - 12\n",
    "sum= {\n",
    "    (1,2):3,\n",
    "    (4,5):9,\n",
    "    (6,9):15\n",
    "}\n",
    "print(sum)\n",
    "# print(sum[1,2])\n",
    "# print(sum[4,5])\n",
    "# print(sum[6,9])"
   ]
  },
  {
   "cell_type": "code",
   "execution_count": 12,
   "id": "cfdf2b5b",
   "metadata": {},
   "outputs": [
    {
     "name": "stdout",
     "output_type": "stream",
     "text": [
      "1\n",
      "2\n",
      "3\n",
      "4\n",
      "5\n",
      "6\n",
      "7\n",
      "8\n",
      "9\n"
     ]
    }
   ],
   "source": [
    "#sol - 13 \n",
    "nested_touple = (\n",
    "    (1,2,3),\n",
    "    (4,5,6),\n",
    "    (7,8,9)\n",
    ")\n",
    "\n",
    "for i in range(len(nested_touple)):\n",
    "    for j in range(len(nested_touple)):\n",
    "        print(nested_touple[i][j])\n",
    "   "
   ]
  },
  {
   "cell_type": "code",
   "execution_count": 14,
   "id": "be51df4f",
   "metadata": {},
   "outputs": [
    {
     "name": "stdout",
     "output_type": "stream",
     "text": [
      "{1, 2, 3, 5, 6}\n"
     ]
    }
   ],
   "source": [
    "# sol - 14 \n",
    "tuples = (1,2,2,3,3,5,6)\n",
    "sett = set(tuples)\n",
    "print(sett)\n",
    "\n"
   ]
  },
  {
   "cell_type": "code",
   "execution_count": 22,
   "id": "4ca89807",
   "metadata": {},
   "outputs": [
    {
     "name": "stdout",
     "output_type": "stream",
     "text": [
      "5\n",
      "1\n",
      "20\n"
     ]
    }
   ],
   "source": [
    "# sol - 15\n",
    "def max_tup(tupli):\n",
    "    ans = 0\n",
    "    for i in range(len(tupli)):\n",
    "        if tupli[i]>ans:\n",
    "            ans = tupli[i]\n",
    "    return ans\n",
    "def min_tup(tupli):\n",
    "   return min(tupli)\n",
    "def sum_tup(tupli):\n",
    "    sum = 0\n",
    "    for i in range(len(tupli)):\n",
    "        sum+=tupli[i]\n",
    "    return sum\n",
    "tupliii = (1 , 2,3 ,4, 5,5)\n",
    "print(max_tup(tupliii))\n",
    "print(min_tup(tupliii))\n",
    "print(sum_tup(tupliii))\n",
    "\n",
    "\n",
    "    "
   ]
  }
 ],
 "metadata": {
  "kernelspec": {
   "display_name": "Python 3",
   "language": "python",
   "name": "python3"
  },
  "language_info": {
   "codemirror_mode": {
    "name": "ipython",
    "version": 3
   },
   "file_extension": ".py",
   "mimetype": "text/x-python",
   "name": "python",
   "nbconvert_exporter": "python",
   "pygments_lexer": "ipython3",
   "version": "3.11.9"
  }
 },
 "nbformat": 4,
 "nbformat_minor": 5
}
